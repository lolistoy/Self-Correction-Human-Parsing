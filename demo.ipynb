{
 "cells": [
  {
   "cell_type": "code",
   "execution_count": 1,
   "id": "90e3eb57-532e-44eb-9fff-fe0f607cf419",
   "metadata": {},
   "outputs": [],
   "source": [
    "dataset = 'lip'         #select from ['lip', 'atr', 'pascal']"
   ]
  },
  {
   "cell_type": "code",
   "execution_count": 3,
   "id": "32521fa5-cb40-4738-b180-a1c0c9fb77ea",
   "metadata": {},
   "outputs": [
    {
     "name": "stdout",
     "output_type": "stream",
     "text": [
      "Requirement already satisfied: gdown in /opt/conda/lib/python3.7/site-packages (4.5.3)\n",
      "Requirement already satisfied: six in /opt/conda/lib/python3.7/site-packages (from gdown) (1.16.0)\n",
      "Requirement already satisfied: requests[socks] in /opt/conda/lib/python3.7/site-packages (from gdown) (2.28.1)\n",
      "Requirement already satisfied: beautifulsoup4 in /opt/conda/lib/python3.7/site-packages (from gdown) (4.11.1)\n",
      "Requirement already satisfied: tqdm in /opt/conda/lib/python3.7/site-packages (from gdown) (4.64.0)\n",
      "Requirement already satisfied: filelock in /opt/conda/lib/python3.7/site-packages (from gdown) (3.8.0)\n",
      "Requirement already satisfied: soupsieve>1.2 in /opt/conda/lib/python3.7/site-packages (from beautifulsoup4->gdown) (2.3.1)\n",
      "Requirement already satisfied: idna<4,>=2.5 in /opt/conda/lib/python3.7/site-packages (from requests[socks]->gdown) (3.3)\n",
      "Requirement already satisfied: charset-normalizer<3,>=2 in /opt/conda/lib/python3.7/site-packages (from requests[socks]->gdown) (2.1.0)\n",
      "Requirement already satisfied: certifi>=2017.4.17 in /opt/conda/lib/python3.7/site-packages (from requests[socks]->gdown) (2022.6.15)\n",
      "Requirement already satisfied: urllib3<1.27,>=1.21.1 in /opt/conda/lib/python3.7/site-packages (from requests[socks]->gdown) (1.26.9)\n",
      "Requirement already satisfied: PySocks!=1.5.7,>=1.5.6 in /opt/conda/lib/python3.7/site-packages (from requests[socks]->gdown) (1.7.1)\n"
     ]
    }
   ],
   "source": [
    "#python -m ipykernel install --name schp --display-name \"schp\" --user\n",
    "!pip install gdown"
   ]
  },
  {
   "cell_type": "code",
   "execution_count": 6,
   "id": "772c5d70-31bd-43ae-b77d-42d211435024",
   "metadata": {},
   "outputs": [
    {
     "name": "stderr",
     "output_type": "stream",
     "text": [
      "Downloading...\n",
      "From: https://drive.google.com/uc?id=1k4dllHpu0bdx38J7H28rVVLpU-kOHmnH\n",
      "To: /home/jupyter/workspace/Self-Correction-Human-Parsing/final.pth\n",
      "100%|██████████| 267M/267M [00:02<00:00, 101MB/s]  \n"
     ]
    },
    {
     "data": {
      "text/plain": [
       "'final.pth'"
      ]
     },
     "execution_count": 6,
     "metadata": {},
     "output_type": "execute_result"
    }
   ],
   "source": [
    "import gdown\n",
    "\n",
    "if dataset == 'lip':\n",
    "    url = 'https://drive.google.com/uc?id=1k4dllHpu0bdx38J7H28rVVLpU-kOHmnH'\n",
    "elif dataset == 'atr':\n",
    "    url = 'https://drive.google.com/uc?id=1ruJg4lqR_jgQPj-9K0PP-L2vJERYOxLP'\n",
    "elif dataset == 'pascal':\n",
    "    url = 'https://drive.google.com/uc?id=1E5YwNKW2VOEayK9mWCS3Kpsxf-3z04ZE'\n",
    "\n",
    "output = 'final.pth'\n",
    "gdown.download(url, output, quiet=False)"
   ]
  },
  {
   "cell_type": "code",
   "execution_count": 8,
   "id": "941e6d75-b858-4619-85f0-5ff2e6b33754",
   "metadata": {},
   "outputs": [
    {
     "name": "stdout",
     "output_type": "stream",
     "text": [
      "Collecting ninja\n",
      "  Using cached ninja-1.11.1-py2.py3-none-manylinux_2_12_x86_64.manylinux2010_x86_64.whl (145 kB)\n",
      "Installing collected packages: ninja\n",
      "Successfully installed ninja-1.11.1\n"
     ]
    }
   ],
   "source": [
    "!pip install ninja"
   ]
  },
  {
   "cell_type": "code",
   "execution_count": 9,
   "id": "33a125fd-b902-41e4-9ee2-ff55c643f0a3",
   "metadata": {},
   "outputs": [
    {
     "name": "stdout",
     "output_type": "stream",
     "text": [
      "Traceback (most recent call last):\n",
      "  File \"simple_extractor.py\", line 25, in <module>\n",
      "    from utils.transforms import transform_logits\n",
      "  File \"/home/jupyter/workspace/Self-Correction-Human-Parsing/utils/transforms.py\", line 12, in <module>\n",
      "    import cv2\n",
      "ModuleNotFoundError: No module named 'cv2'\n"
     ]
    }
   ],
   "source": [
    "! python3 simple_extractor.py --dataset 'lip' --model-restore 'final.pth' --input-dir 'inputs' --output-dir 'outputs'"
   ]
  },
  {
   "cell_type": "code",
   "execution_count": 1,
   "id": "2117d5d0-e3c5-4612-b432-8d153eb3c95a",
   "metadata": {},
   "outputs": [],
   "source": [
    "import torch\n",
    "import tensorflow as tf\n",
    "import numpy as np"
   ]
  },
  {
   "cell_type": "code",
   "execution_count": 2,
   "id": "b25f377c-d66e-4afd-83a9-1acb91e93a74",
   "metadata": {},
   "outputs": [],
   "source": [
    "import networks\n"
   ]
  },
  {
   "cell_type": "code",
   "execution_count": 3,
   "id": "c85e381e-77c1-4e24-98d5-de00305b45c8",
   "metadata": {},
   "outputs": [],
   "source": [
    "model_std = networks.init_model('resnet101', num_classes=20, pretrained=None)\n",
    "state_dict = torch.load(\"./final.pth\")['state_dict']\n",
    "from collections import OrderedDict\n",
    "new_state_dict = OrderedDict()\n",
    "for k, v in state_dict.items():\n",
    "    name = k[7:]  # remove `module.`\n",
    "    new_state_dict[name] = v\n",
    "model_std.load_state_dict(new_state_dict)\n",
    "model_std.eval();"
   ]
  },
  {
   "cell_type": "code",
   "execution_count": 4,
   "id": "c2b4b595-1509-4510-a379-df54a3471a51",
   "metadata": {},
   "outputs": [],
   "source": [
    "model_std._only_parse_output = True"
   ]
  },
  {
   "cell_type": "code",
   "execution_count": 5,
   "id": "01fcec3e-3743-4e58-9029-e713c1b45f89",
   "metadata": {},
   "outputs": [],
   "source": [
    "inp = np.random.randn(1, 3, 473, 473).astype(np.float32)\n",
    "inp_std = torch.from_numpy(inp)"
   ]
  },
  {
   "cell_type": "code",
   "execution_count": 6,
   "id": "d49946a1-7d18-428f-83a7-171b7165ea74",
   "metadata": {},
   "outputs": [],
   "source": [
    "out_std = model_std(inp_std).detach().numpy()"
   ]
  },
  {
   "cell_type": "code",
   "execution_count": 7,
   "id": "228b7a26-5032-40f7-89d0-e4885156ad40",
   "metadata": {},
   "outputs": [
    {
     "data": {
      "text/plain": [
       "(1, 20, 119, 119)"
      ]
     },
     "execution_count": 7,
     "metadata": {},
     "output_type": "execute_result"
    }
   ],
   "source": [
    "out_std.shape"
   ]
  },
  {
   "cell_type": "code",
   "execution_count": 21,
   "id": "cecce417-86f1-4907-bb1c-19e97426bf91",
   "metadata": {},
   "outputs": [],
   "source": [
    "torch.onnx.export(model_std, inp_std, \"./lip_473x473.onnx\", export_params=True,\n",
    "                  do_constant_folding=True, verbose=False, input_names=[\"input\"], output_names=[\"output\"],\n",
    "                  dynamic_axes={'input' : {0 : 'batch_size'},    # variable length axes\n",
    "                  'output' : {0 : 'batch_size'}},\n",
    "                  opset_version=11)"
   ]
  },
  {
   "cell_type": "code",
   "execution_count": 22,
   "id": "7bf3986f-f9ce-496b-aa80-6d02a5938241",
   "metadata": {},
   "outputs": [],
   "source": [
    "import onnx \n",
    "from onnx_tf.backend import prepare\n",
    "from onnx2keras import onnx_to_keras\n"
   ]
  },
  {
   "cell_type": "code",
   "execution_count": 23,
   "id": "9641c7cc-c84e-4d5e-ae74-91161c686c3e",
   "metadata": {},
   "outputs": [],
   "source": [
    "model_onnx = onnx.load(\"./lip_473x473.onnx\")"
   ]
  },
  {
   "cell_type": "code",
   "execution_count": 24,
   "id": "a8aae820-2e26-4b98-b048-0ae7a84c0599",
   "metadata": {},
   "outputs": [],
   "source": [
    "onnx.checker.check_model(model_onnx)\n"
   ]
  },
  {
   "cell_type": "code",
   "execution_count": 25,
   "id": "3789bf07-6f79-4417-8698-74375b465688",
   "metadata": {
    "scrolled": true,
    "tags": []
   },
   "outputs": [
    {
     "name": "stdout",
     "output_type": "stream",
     "text": [
      "graph torch-jit-export (\n",
      "  %input[FLOAT, batch_sizex3x473x473]\n",
      ") initializers (\n",
      "  %bn1.bias[FLOAT, 64]\n",
      "  %bn1.running_mean[FLOAT, 64]\n",
      "  %bn1.running_var[FLOAT, 64]\n",
      "  %bn1.weight[FLOAT, 64]\n",
      "  %bn2.bias[FLOAT, 64]\n",
      "  %bn2.running_mean[FLOAT, 64]\n",
      "  %bn2.running_var[FLOAT, 64]\n",
      "  %bn2.weight[FLOAT, 64]\n",
      "  %bn3.bias[FLOAT, 128]\n",
      "  %bn3.running_mean[FLOAT, 128]\n",
      "  %bn3.running_var[FLOAT, 128]\n",
      "  %bn3.weight[FLOAT, 128]\n",
      "  %context_encoding.bottleneck.0.weight[FLOAT, 512x4096x3x3]\n",
      "  %context_encoding.bottleneck.1.bias[FLOAT, 512]\n",
      "  %context_encoding.bottleneck.1.running_mean[FLOAT, 512]\n",
      "  %context_encoding.bottleneck.1.running_var[FLOAT, 512]\n",
      "  %context_encoding.bottleneck.1.weight[FLOAT, 512]\n",
      "  %context_encoding.stages.0.1.weight[FLOAT, 512x2048x1x1]\n",
      "  %context_encoding.stages.0.2.bias[FLOAT, 512]\n",
      "  %context_encoding.stages.0.2.running_mean[FLOAT, 512]\n",
      "  %context_encoding.stages.0.2.running_var[FLOAT, 512]\n",
      "  %context_encoding.stages.0.2.weight[FLOAT, 512]\n",
      "  %context_encoding.stages.1.1.weight[FLOAT, 512x2048x1x1]\n",
      "  %context_encoding.stages.1.2.bias[FLOAT, 512]\n",
      "  %context_encoding.stages.1.2.running_mean[FLOAT, 512]\n",
      "  %context_encoding.stages.1.2.running_var[FLOAT, 512]\n",
      "  %context_encoding.stages.1.2.weight[FLOAT, 512]\n",
      "  %context_encoding.stages.2.1.weight[FLOAT, 512x2048x1x1]\n",
      "  %context_encoding.stages.2.2.bias[FLOAT, 512]\n",
      "  %context_encoding.stages.2.2.running_mean[FLOAT, 512]\n",
      "  %context_encoding.stages.2.2.running_var[FLOAT, 512]\n",
      "  %context_encoding.stages.2.2.weight[FLOAT, 512]\n",
      "  %context_encoding.stages.3.1.weight[FLOAT, 512x2048x1x1]\n",
      "  %context_encoding.stages.3.2.bias[FLOAT, 512]\n",
      "  %context_encoding.stages.3.2.running_mean[FLOAT, 512]\n",
      "  %context_encoding.stages.3.2.running_var[FLOAT, 512]\n",
      "  %context_encoding.stages.3.2.weight[FLOAT, 512]\n",
      "  %conv1.weight[FLOAT, 64x3x3x3]\n",
      "  %conv2.weight[FLOAT, 64x64x3x3]\n",
      "  %conv3.weight[FLOAT, 128x64x3x3]\n",
      "  %decoder.conv1.0.weight[FLOAT, 256x512x1x1]\n",
      "  %decoder.conv1.1.bias[FLOAT, 256]\n",
      "  %decoder.conv1.1.running_mean[FLOAT, 256]\n",
      "  %decoder.conv1.1.running_var[FLOAT, 256]\n",
      "  %decoder.conv1.1.weight[FLOAT, 256]\n",
      "  %decoder.conv2.0.weight[FLOAT, 48x256x1x1]\n",
      "  %decoder.conv2.1.bias[FLOAT, 48]\n",
      "  %decoder.conv2.1.running_mean[FLOAT, 48]\n",
      "  %decoder.conv2.1.running_var[FLOAT, 48]\n",
      "  %decoder.conv2.1.weight[FLOAT, 48]\n",
      "  %decoder.conv3.0.weight[FLOAT, 256x304x1x1]\n",
      "  %decoder.conv3.1.bias[FLOAT, 256]\n",
      "  %decoder.conv3.1.running_mean[FLOAT, 256]\n",
      "  %decoder.conv3.1.running_var[FLOAT, 256]\n",
      "  %decoder.conv3.1.weight[FLOAT, 256]\n",
      "  %decoder.conv3.2.weight[FLOAT, 256x256x1x1]\n",
      "  %decoder.conv3.3.bias[FLOAT, 256]\n",
      "  %decoder.conv3.3.running_mean[FLOAT, 256]\n",
      "  %decoder.conv3.3.running_var[FLOAT, 256]\n",
      "  %decoder.conv3.3.weight[FLOAT, 256]\n",
      "  %decoder.conv4.bias[FLOAT, 20]\n",
      "  %decoder.conv4.weight[FLOAT, 20x256x1x1]\n",
      "  %layer1.0.bn1.bias[FLOAT, 64]\n",
      "  %layer1.0.bn1.running_mean[FLOAT, 64]\n",
      "  %layer1.0.bn1.running_var[FLOAT, 64]\n",
      "  %layer1.0.bn1.weight[FLOAT, 64]\n",
      "  %layer1.0.bn2.bias[FLOAT, 64]\n",
      "  %layer1.0.bn2.running_mean[FLOAT, 64]\n",
      "  %layer1.0.bn2.running_var[FLOAT, 64]\n",
      "  %layer1.0.bn2.weight[FLOAT, 64]\n",
      "  %layer1.0.bn3.bias[FLOAT, 256]\n",
      "  %layer1.0.bn3.running_mean[FLOAT, 256]\n",
      "  %layer1.0.bn3.running_var[FLOAT, 256]\n",
      "  %layer1.0.bn3.weight[FLOAT, 256]\n",
      "  %layer1.0.conv1.weight[FLOAT, 64x128x1x1]\n",
      "  %layer1.0.conv2.weight[FLOAT, 64x64x3x3]\n",
      "  %layer1.0.conv3.weight[FLOAT, 256x64x1x1]\n",
      "  %layer1.0.downsample.0.weight[FLOAT, 256x128x1x1]\n",
      "  %layer1.0.downsample.1.bias[FLOAT, 256]\n",
      "  %layer1.0.downsample.1.running_mean[FLOAT, 256]\n",
      "  %layer1.0.downsample.1.running_var[FLOAT, 256]\n",
      "  %layer1.0.downsample.1.weight[FLOAT, 256]\n",
      "  %layer1.1.bn1.bias[FLOAT, 64]\n",
      "  %layer1.1.bn1.running_mean[FLOAT, 64]\n",
      "  %layer1.1.bn1.running_var[FLOAT, 64]\n",
      "  %layer1.1.bn1.weight[FLOAT, 64]\n",
      "  %layer1.1.bn2.bias[FLOAT, 64]\n",
      "  %layer1.1.bn2.running_mean[FLOAT, 64]\n",
      "  %layer1.1.bn2.running_var[FLOAT, 64]\n",
      "  %layer1.1.bn2.weight[FLOAT, 64]\n",
      "  %layer1.1.bn3.bias[FLOAT, 256]\n",
      "  %layer1.1.bn3.running_mean[FLOAT, 256]\n",
      "  %layer1.1.bn3.running_var[FLOAT, 256]\n",
      "  %layer1.1.bn3.weight[FLOAT, 256]\n",
      "  %layer1.1.conv1.weight[FLOAT, 64x256x1x1]\n",
      "  %layer1.1.conv2.weight[FLOAT, 64x64x3x3]\n",
      "  %layer1.1.conv3.weight[FLOAT, 256x64x1x1]\n",
      "  %layer1.2.bn1.bias[FLOAT, 64]\n",
      "  %layer1.2.bn1.running_mean[FLOAT, 64]\n",
      "  %layer1.2.bn1.running_var[FLOAT, 64]\n",
      "  %layer1.2.bn1.weight[FLOAT, 64]\n",
      "  %layer1.2.bn2.bias[FLOAT, 64]\n",
      "  %layer1.2.bn2.running_mean[FLOAT, 64]\n",
      "  %layer1.2.bn2.running_var[FLOAT, 64]\n",
      "  %layer1.2.bn2.weight[FLOAT, 64]\n",
      "  %layer1.2.bn3.bias[FLOAT, 256]\n",
      "  %layer1.2.bn3.running_mean[FLOAT, 256]\n",
      "  %layer1.2.bn3.running_var[FLOAT, 256]\n",
      "  %layer1.2.bn3.weight[FLOAT, 256]\n",
      "  %layer1.2.conv1.weight[FLOAT, 64x256x1x1]\n",
      "  %layer1.2.conv2.weight[FLOAT, 64x64x3x3]\n",
      "  %layer1.2.conv3.weight[FLOAT, 256x64x1x1]\n",
      "  %layer2.0.bn1.bias[FLOAT, 128]\n",
      "  %layer2.0.bn1.running_mean[FLOAT, 128]\n",
      "  %layer2.0.bn1.running_var[FLOAT, 128]\n",
      "  %layer2.0.bn1.weight[FLOAT, 128]\n",
      "  %layer2.0.bn2.bias[FLOAT, 128]\n",
      "  %layer2.0.bn2.running_mean[FLOAT, 128]\n",
      "  %layer2.0.bn2.running_var[FLOAT, 128]\n",
      "  %layer2.0.bn2.weight[FLOAT, 128]\n",
      "  %layer2.0.bn3.bias[FLOAT, 512]\n",
      "  %layer2.0.bn3.running_mean[FLOAT, 512]\n",
      "  %layer2.0.bn3.running_var[FLOAT, 512]\n",
      "  %layer2.0.bn3.weight[FLOAT, 512]\n",
      "  %layer2.0.conv1.weight[FLOAT, 128x256x1x1]\n",
      "  %layer2.0.conv2.weight[FLOAT, 128x128x3x3]\n",
      "  %layer2.0.conv3.weight[FLOAT, 512x128x1x1]\n",
      "  %layer2.0.downsample.0.weight[FLOAT, 512x256x1x1]\n",
      "  %layer2.0.downsample.1.bias[FLOAT, 512]\n",
      "  %layer2.0.downsample.1.running_mean[FLOAT, 512]\n",
      "  %layer2.0.downsample.1.running_var[FLOAT, 512]\n",
      "  %layer2.0.downsample.1.weight[FLOAT, 512]\n",
      "  %layer2.1.bn1.bias[FLOAT, 128]\n",
      "  %layer2.1.bn1.running_mean[FLOAT, 128]\n",
      "  %layer2.1.bn1.running_var[FLOAT, 128]\n",
      "  %layer2.1.bn1.weight[FLOAT, 128]\n",
      "  %layer2.1.bn2.bias[FLOAT, 128]\n",
      "  %layer2.1.bn2.running_mean[FLOAT, 128]\n",
      "  %layer2.1.bn2.running_var[FLOAT, 128]\n",
      "  %layer2.1.bn2.weight[FLOAT, 128]\n",
      "  %layer2.1.bn3.bias[FLOAT, 512]\n",
      "  %layer2.1.bn3.running_mean[FLOAT, 512]\n",
      "  %layer2.1.bn3.running_var[FLOAT, 512]\n",
      "  %layer2.1.bn3.weight[FLOAT, 512]\n",
      "  %layer2.1.conv1.weight[FLOAT, 128x512x1x1]\n",
      "  %layer2.1.conv2.weight[FLOAT, 128x128x3x3]\n",
      "  %layer2.1.conv3.weight[FLOAT, 512x128x1x1]\n",
      "  %layer2.2.bn1.bias[FLOAT, 128]\n",
      "  %layer2.2.bn1.running_mean[FLOAT, 128]\n",
      "  %layer2.2.bn1.running_var[FLOAT, 128]\n",
      "  %layer2.2.bn1.weight[FLOAT, 128]\n",
      "  %layer2.2.bn2.bias[FLOAT, 128]\n",
      "  %layer2.2.bn2.running_mean[FLOAT, 128]\n",
      "  %layer2.2.bn2.running_var[FLOAT, 128]\n",
      "  %layer2.2.bn2.weight[FLOAT, 128]\n",
      "  %layer2.2.bn3.bias[FLOAT, 512]\n",
      "  %layer2.2.bn3.running_mean[FLOAT, 512]\n",
      "  %layer2.2.bn3.running_var[FLOAT, 512]\n",
      "  %layer2.2.bn3.weight[FLOAT, 512]\n",
      "  %layer2.2.conv1.weight[FLOAT, 128x512x1x1]\n",
      "  %layer2.2.conv2.weight[FLOAT, 128x128x3x3]\n",
      "  %layer2.2.conv3.weight[FLOAT, 512x128x1x1]\n",
      "  %layer2.3.bn1.bias[FLOAT, 128]\n",
      "  %layer2.3.bn1.running_mean[FLOAT, 128]\n",
      "  %layer2.3.bn1.running_var[FLOAT, 128]\n",
      "  %layer2.3.bn1.weight[FLOAT, 128]\n",
      "  %layer2.3.bn2.bias[FLOAT, 128]\n",
      "  %layer2.3.bn2.running_mean[FLOAT, 128]\n",
      "  %layer2.3.bn2.running_var[FLOAT, 128]\n",
      "  %layer2.3.bn2.weight[FLOAT, 128]\n",
      "  %layer2.3.bn3.bias[FLOAT, 512]\n",
      "  %layer2.3.bn3.running_mean[FLOAT, 512]\n",
      "  %layer2.3.bn3.running_var[FLOAT, 512]\n",
      "  %layer2.3.bn3.weight[FLOAT, 512]\n",
      "  %layer2.3.conv1.weight[FLOAT, 128x512x1x1]\n",
      "  %layer2.3.conv2.weight[FLOAT, 128x128x3x3]\n",
      "  %layer2.3.conv3.weight[FLOAT, 512x128x1x1]\n",
      "  %layer3.0.bn1.bias[FLOAT, 256]\n",
      "  %layer3.0.bn1.running_mean[FLOAT, 256]\n",
      "  %layer3.0.bn1.running_var[FLOAT, 256]\n",
      "  %layer3.0.bn1.weight[FLOAT, 256]\n",
      "  %layer3.0.bn2.bias[FLOAT, 256]\n",
      "  %layer3.0.bn2.running_mean[FLOAT, 256]\n",
      "  %layer3.0.bn2.running_var[FLOAT, 256]\n",
      "  %layer3.0.bn2.weight[FLOAT, 256]\n",
      "  %layer3.0.bn3.bias[FLOAT, 1024]\n",
      "  %layer3.0.bn3.running_mean[FLOAT, 1024]\n",
      "  %layer3.0.bn3.running_var[FLOAT, 1024]\n",
      "  %layer3.0.bn3.weight[FLOAT, 1024]\n",
      "  %layer3.0.conv1.weight[FLOAT, 256x512x1x1]\n",
      "  %layer3.0.conv2.weight[FLOAT, 256x256x3x3]\n",
      "  %layer3.0.conv3.weight[FLOAT, 1024x256x1x1]\n",
      "  %layer3.0.downsample.0.weight[FLOAT, 1024x512x1x1]\n",
      "  %layer3.0.downsample.1.bias[FLOAT, 1024]\n",
      "  %layer3.0.downsample.1.running_mean[FLOAT, 1024]\n",
      "  %layer3.0.downsample.1.running_var[FLOAT, 1024]\n",
      "  %layer3.0.downsample.1.weight[FLOAT, 1024]\n",
      "  %layer3.1.bn1.bias[FLOAT, 256]\n",
      "  %layer3.1.bn1.running_mean[FLOAT, 256]\n",
      "  %layer3.1.bn1.running_var[FLOAT, 256]\n",
      "  %layer3.1.bn1.weight[FLOAT, 256]\n",
      "  %layer3.1.bn2.bias[FLOAT, 256]\n",
      "  %layer3.1.bn2.running_mean[FLOAT, 256]\n",
      "  %layer3.1.bn2.running_var[FLOAT, 256]\n",
      "  %layer3.1.bn2.weight[FLOAT, 256]\n",
      "  %layer3.1.bn3.bias[FLOAT, 1024]\n",
      "  %layer3.1.bn3.running_mean[FLOAT, 1024]\n",
      "  %layer3.1.bn3.running_var[FLOAT, 1024]\n",
      "  %layer3.1.bn3.weight[FLOAT, 1024]\n",
      "  %layer3.1.conv1.weight[FLOAT, 256x1024x1x1]\n",
      "  %layer3.1.conv2.weight[FLOAT, 256x256x3x3]\n",
      "  %layer3.1.conv3.weight[FLOAT, 1024x256x1x1]\n",
      "  %layer3.10.bn1.bias[FLOAT, 256]\n",
      "  %layer3.10.bn1.running_mean[FLOAT, 256]\n",
      "  %layer3.10.bn1.running_var[FLOAT, 256]\n",
      "  %layer3.10.bn1.weight[FLOAT, 256]\n",
      "  %layer3.10.bn2.bias[FLOAT, 256]\n",
      "  %layer3.10.bn2.running_mean[FLOAT, 256]\n",
      "  %layer3.10.bn2.running_var[FLOAT, 256]\n",
      "  %layer3.10.bn2.weight[FLOAT, 256]\n",
      "  %layer3.10.bn3.bias[FLOAT, 1024]\n",
      "  %layer3.10.bn3.running_mean[FLOAT, 1024]\n",
      "  %layer3.10.bn3.running_var[FLOAT, 1024]\n",
      "  %layer3.10.bn3.weight[FLOAT, 1024]\n",
      "  %layer3.10.conv1.weight[FLOAT, 256x1024x1x1]\n",
      "  %layer3.10.conv2.weight[FLOAT, 256x256x3x3]\n",
      "  %layer3.10.conv3.weight[FLOAT, 1024x256x1x1]\n",
      "  %layer3.11.bn1.bias[FLOAT, 256]\n",
      "  %layer3.11.bn1.running_mean[FLOAT, 256]\n",
      "  %layer3.11.bn1.running_var[FLOAT, 256]\n",
      "  %layer3.11.bn1.weight[FLOAT, 256]\n",
      "  %layer3.11.bn2.bias[FLOAT, 256]\n",
      "  %layer3.11.bn2.running_mean[FLOAT, 256]\n",
      "  %layer3.11.bn2.running_var[FLOAT, 256]\n",
      "  %layer3.11.bn2.weight[FLOAT, 256]\n",
      "  %layer3.11.bn3.bias[FLOAT, 1024]\n",
      "  %layer3.11.bn3.running_mean[FLOAT, 1024]\n",
      "  %layer3.11.bn3.running_var[FLOAT, 1024]\n",
      "  %layer3.11.bn3.weight[FLOAT, 1024]\n",
      "  %layer3.11.conv1.weight[FLOAT, 256x1024x1x1]\n",
      "  %layer3.11.conv2.weight[FLOAT, 256x256x3x3]\n",
      "  %layer3.11.conv3.weight[FLOAT, 1024x256x1x1]\n",
      "  %layer3.12.bn1.bias[FLOAT, 256]\n",
      "  %layer3.12.bn1.running_mean[FLOAT, 256]\n",
      "  %layer3.12.bn1.running_var[FLOAT, 256]\n",
      "  %layer3.12.bn1.weight[FLOAT, 256]\n",
      "  %layer3.12.bn2.bias[FLOAT, 256]\n",
      "  %layer3.12.bn2.running_mean[FLOAT, 256]\n",
      "  %layer3.12.bn2.running_var[FLOAT, 256]\n",
      "  %layer3.12.bn2.weight[FLOAT, 256]\n",
      "  %layer3.12.bn3.bias[FLOAT, 1024]\n",
      "  %layer3.12.bn3.running_mean[FLOAT, 1024]\n",
      "  %layer3.12.bn3.running_var[FLOAT, 1024]\n",
      "  %layer3.12.bn3.weight[FLOAT, 1024]\n",
      "  %layer3.12.conv1.weight[FLOAT, 256x1024x1x1]\n",
      "  %layer3.12.conv2.weight[FLOAT, 256x256x3x3]\n",
      "  %layer3.12.conv3.weight[FLOAT, 1024x256x1x1]\n",
      "  %layer3.13.bn1.bias[FLOAT, 256]\n",
      "  %layer3.13.bn1.running_mean[FLOAT, 256]\n",
      "  %layer3.13.bn1.running_var[FLOAT, 256]\n",
      "  %layer3.13.bn1.weight[FLOAT, 256]\n",
      "  %layer3.13.bn2.bias[FLOAT, 256]\n",
      "  %layer3.13.bn2.running_mean[FLOAT, 256]\n",
      "  %layer3.13.bn2.running_var[FLOAT, 256]\n",
      "  %layer3.13.bn2.weight[FLOAT, 256]\n",
      "  %layer3.13.bn3.bias[FLOAT, 1024]\n",
      "  %layer3.13.bn3.running_mean[FLOAT, 1024]\n",
      "  %layer3.13.bn3.running_var[FLOAT, 1024]\n",
      "  %layer3.13.bn3.weight[FLOAT, 1024]\n",
      "  %layer3.13.conv1.weight[FLOAT, 256x1024x1x1]\n",
      "  %layer3.13.conv2.weight[FLOAT, 256x256x3x3]\n",
      "  %layer3.13.conv3.weight[FLOAT, 1024x256x1x1]\n",
      "  %layer3.14.bn1.bias[FLOAT, 256]\n",
      "  %layer3.14.bn1.running_mean[FLOAT, 256]\n",
      "  %layer3.14.bn1.running_var[FLOAT, 256]\n",
      "  %layer3.14.bn1.weight[FLOAT, 256]\n",
      "  %layer3.14.bn2.bias[FLOAT, 256]\n",
      "  %layer3.14.bn2.running_mean[FLOAT, 256]\n",
      "  %layer3.14.bn2.running_var[FLOAT, 256]\n",
      "  %layer3.14.bn2.weight[FLOAT, 256]\n",
      "  %layer3.14.bn3.bias[FLOAT, 1024]\n",
      "  %layer3.14.bn3.running_mean[FLOAT, 1024]\n",
      "  %layer3.14.bn3.running_var[FLOAT, 1024]\n",
      "  %layer3.14.bn3.weight[FLOAT, 1024]\n",
      "  %layer3.14.conv1.weight[FLOAT, 256x1024x1x1]\n",
      "  %layer3.14.conv2.weight[FLOAT, 256x256x3x3]\n",
      "  %layer3.14.conv3.weight[FLOAT, 1024x256x1x1]\n",
      "  %layer3.15.bn1.bias[FLOAT, 256]\n",
      "  %layer3.15.bn1.running_mean[FLOAT, 256]\n",
      "  %layer3.15.bn1.running_var[FLOAT, 256]\n",
      "  %layer3.15.bn1.weight[FLOAT, 256]\n",
      "  %layer3.15.bn2.bias[FLOAT, 256]\n",
      "  %layer3.15.bn2.running_mean[FLOAT, 256]\n",
      "  %layer3.15.bn2.running_var[FLOAT, 256]\n",
      "  %layer3.15.bn2.weight[FLOAT, 256]\n",
      "  %layer3.15.bn3.bias[FLOAT, 1024]\n",
      "  %layer3.15.bn3.running_mean[FLOAT, 1024]\n",
      "  %layer3.15.bn3.running_var[FLOAT, 1024]\n",
      "  %layer3.15.bn3.weight[FLOAT, 1024]\n",
      "  %layer3.15.conv1.weight[FLOAT, 256x1024x1x1]\n",
      "  %layer3.15.conv2.weight[FLOAT, 256x256x3x3]\n",
      "  %layer3.15.conv3.weight[FLOAT, 1024x256x1x1]\n",
      "  %layer3.16.bn1.bias[FLOAT, 256]\n",
      "  %layer3.16.bn1.running_mean[FLOAT, 256]\n",
      "  %layer3.16.bn1.running_var[FLOAT, 256]\n",
      "  %layer3.16.bn1.weight[FLOAT, 256]\n",
      "  %layer3.16.bn2.bias[FLOAT, 256]\n",
      "  %layer3.16.bn2.running_mean[FLOAT, 256]\n",
      "  %layer3.16.bn2.running_var[FLOAT, 256]\n",
      "  %layer3.16.bn2.weight[FLOAT, 256]\n",
      "  %layer3.16.bn3.bias[FLOAT, 1024]\n",
      "  %layer3.16.bn3.running_mean[FLOAT, 1024]\n",
      "  %layer3.16.bn3.running_var[FLOAT, 1024]\n",
      "  %layer3.16.bn3.weight[FLOAT, 1024]\n",
      "  %layer3.16.conv1.weight[FLOAT, 256x1024x1x1]\n",
      "  %layer3.16.conv2.weight[FLOAT, 256x256x3x3]\n",
      "  %layer3.16.conv3.weight[FLOAT, 1024x256x1x1]\n",
      "  %layer3.17.bn1.bias[FLOAT, 256]\n",
      "  %layer3.17.bn1.running_mean[FLOAT, 256]\n",
      "  %layer3.17.bn1.running_var[FLOAT, 256]\n",
      "  %layer3.17.bn1.weight[FLOAT, 256]\n",
      "  %layer3.17.bn2.bias[FLOAT, 256]\n",
      "  %layer3.17.bn2.running_mean[FLOAT, 256]\n",
      "  %layer3.17.bn2.running_var[FLOAT, 256]\n",
      "  %layer3.17.bn2.weight[FLOAT, 256]\n",
      "  %layer3.17.bn3.bias[FLOAT, 1024]\n",
      "  %layer3.17.bn3.running_mean[FLOAT, 1024]\n",
      "  %layer3.17.bn3.running_var[FLOAT, 1024]\n",
      "  %layer3.17.bn3.weight[FLOAT, 1024]\n",
      "  %layer3.17.conv1.weight[FLOAT, 256x1024x1x1]\n",
      "  %layer3.17.conv2.weight[FLOAT, 256x256x3x3]\n",
      "  %layer3.17.conv3.weight[FLOAT, 1024x256x1x1]\n",
      "  %layer3.18.bn1.bias[FLOAT, 256]\n",
      "  %layer3.18.bn1.running_mean[FLOAT, 256]\n",
      "  %layer3.18.bn1.running_var[FLOAT, 256]\n",
      "  %layer3.18.bn1.weight[FLOAT, 256]\n",
      "  %layer3.18.bn2.bias[FLOAT, 256]\n",
      "  %layer3.18.bn2.running_mean[FLOAT, 256]\n",
      "  %layer3.18.bn2.running_var[FLOAT, 256]\n",
      "  %layer3.18.bn2.weight[FLOAT, 256]\n",
      "  %layer3.18.bn3.bias[FLOAT, 1024]\n",
      "  %layer3.18.bn3.running_mean[FLOAT, 1024]\n",
      "  %layer3.18.bn3.running_var[FLOAT, 1024]\n",
      "  %layer3.18.bn3.weight[FLOAT, 1024]\n",
      "  %layer3.18.conv1.weight[FLOAT, 256x1024x1x1]\n",
      "  %layer3.18.conv2.weight[FLOAT, 256x256x3x3]\n",
      "  %layer3.18.conv3.weight[FLOAT, 1024x256x1x1]\n",
      "  %layer3.19.bn1.bias[FLOAT, 256]\n",
      "  %layer3.19.bn1.running_mean[FLOAT, 256]\n",
      "  %layer3.19.bn1.running_var[FLOAT, 256]\n",
      "  %layer3.19.bn1.weight[FLOAT, 256]\n",
      "  %layer3.19.bn2.bias[FLOAT, 256]\n",
      "  %layer3.19.bn2.running_mean[FLOAT, 256]\n",
      "  %layer3.19.bn2.running_var[FLOAT, 256]\n",
      "  %layer3.19.bn2.weight[FLOAT, 256]\n",
      "  %layer3.19.bn3.bias[FLOAT, 1024]\n",
      "  %layer3.19.bn3.running_mean[FLOAT, 1024]\n",
      "  %layer3.19.bn3.running_var[FLOAT, 1024]\n",
      "  %layer3.19.bn3.weight[FLOAT, 1024]\n",
      "  %layer3.19.conv1.weight[FLOAT, 256x1024x1x1]\n",
      "  %layer3.19.conv2.weight[FLOAT, 256x256x3x3]\n",
      "  %layer3.19.conv3.weight[FLOAT, 1024x256x1x1]\n",
      "  %layer3.2.bn1.bias[FLOAT, 256]\n",
      "  %layer3.2.bn1.running_mean[FLOAT, 256]\n",
      "  %layer3.2.bn1.running_var[FLOAT, 256]\n",
      "  %layer3.2.bn1.weight[FLOAT, 256]\n",
      "  %layer3.2.bn2.bias[FLOAT, 256]\n",
      "  %layer3.2.bn2.running_mean[FLOAT, 256]\n",
      "  %layer3.2.bn2.running_var[FLOAT, 256]\n",
      "  %layer3.2.bn2.weight[FLOAT, 256]\n",
      "  %layer3.2.bn3.bias[FLOAT, 1024]\n",
      "  %layer3.2.bn3.running_mean[FLOAT, 1024]\n",
      "  %layer3.2.bn3.running_var[FLOAT, 1024]\n",
      "  %layer3.2.bn3.weight[FLOAT, 1024]\n",
      "  %layer3.2.conv1.weight[FLOAT, 256x1024x1x1]\n",
      "  %layer3.2.conv2.weight[FLOAT, 256x256x3x3]\n",
      "  %layer3.2.conv3.weight[FLOAT, 1024x256x1x1]\n",
      "  %layer3.20.bn1.bias[FLOAT, 256]\n",
      "  %layer3.20.bn1.running_mean[FLOAT, 256]\n",
      "  %layer3.20.bn1.running_var[FLOAT, 256]\n",
      "  %layer3.20.bn1.weight[FLOAT, 256]\n",
      "  %layer3.20.bn2.bias[FLOAT, 256]\n",
      "  %layer3.20.bn2.running_mean[FLOAT, 256]\n",
      "  %layer3.20.bn2.running_var[FLOAT, 256]\n",
      "  %layer3.20.bn2.weight[FLOAT, 256]\n",
      "  %layer3.20.bn3.bias[FLOAT, 1024]\n",
      "  %layer3.20.bn3.running_mean[FLOAT, 1024]\n",
      "  %layer3.20.bn3.running_var[FLOAT, 1024]\n",
      "  %layer3.20.bn3.weight[FLOAT, 1024]\n",
      "  %layer3.20.conv1.weight[FLOAT, 256x1024x1x1]\n",
      "  %layer3.20.conv2.weight[FLOAT, 256x256x3x3]\n",
      "  %layer3.20.conv3.weight[FLOAT, 1024x256x1x1]\n",
      "  %layer3.21.bn1.bias[FLOAT, 256]\n",
      "  %layer3.21.bn1.running_mean[FLOAT, 256]\n",
      "  %layer3.21.bn1.running_var[FLOAT, 256]\n",
      "  %layer3.21.bn1.weight[FLOAT, 256]\n",
      "  %layer3.21.bn2.bias[FLOAT, 256]\n",
      "  %layer3.21.bn2.running_mean[FLOAT, 256]\n",
      "  %layer3.21.bn2.running_var[FLOAT, 256]\n",
      "  %layer3.21.bn2.weight[FLOAT, 256]\n",
      "  %layer3.21.bn3.bias[FLOAT, 1024]\n",
      "  %layer3.21.bn3.running_mean[FLOAT, 1024]\n",
      "  %layer3.21.bn3.running_var[FLOAT, 1024]\n",
      "  %layer3.21.bn3.weight[FLOAT, 1024]\n",
      "  %layer3.21.conv1.weight[FLOAT, 256x1024x1x1]\n",
      "  %layer3.21.conv2.weight[FLOAT, 256x256x3x3]\n",
      "  %layer3.21.conv3.weight[FLOAT, 1024x256x1x1]\n",
      "  %layer3.22.bn1.bias[FLOAT, 256]\n",
      "  %layer3.22.bn1.running_mean[FLOAT, 256]\n",
      "  %layer3.22.bn1.running_var[FLOAT, 256]\n",
      "  %layer3.22.bn1.weight[FLOAT, 256]\n",
      "  %layer3.22.bn2.bias[FLOAT, 256]\n",
      "  %layer3.22.bn2.running_mean[FLOAT, 256]\n",
      "  %layer3.22.bn2.running_var[FLOAT, 256]\n",
      "  %layer3.22.bn2.weight[FLOAT, 256]\n",
      "  %layer3.22.bn3.bias[FLOAT, 1024]\n",
      "  %layer3.22.bn3.running_mean[FLOAT, 1024]\n",
      "  %layer3.22.bn3.running_var[FLOAT, 1024]\n",
      "  %layer3.22.bn3.weight[FLOAT, 1024]\n",
      "  %layer3.22.conv1.weight[FLOAT, 256x1024x1x1]\n",
      "  %layer3.22.conv2.weight[FLOAT, 256x256x3x3]\n",
      "  %layer3.22.conv3.weight[FLOAT, 1024x256x1x1]\n",
      "  %layer3.3.bn1.bias[FLOAT, 256]\n",
      "  %layer3.3.bn1.running_mean[FLOAT, 256]\n",
      "  %layer3.3.bn1.running_var[FLOAT, 256]\n",
      "  %layer3.3.bn1.weight[FLOAT, 256]\n",
      "  %layer3.3.bn2.bias[FLOAT, 256]\n",
      "  %layer3.3.bn2.running_mean[FLOAT, 256]\n",
      "  %layer3.3.bn2.running_var[FLOAT, 256]\n",
      "  %layer3.3.bn2.weight[FLOAT, 256]\n",
      "  %layer3.3.bn3.bias[FLOAT, 1024]\n",
      "  %layer3.3.bn3.running_mean[FLOAT, 1024]\n",
      "  %layer3.3.bn3.running_var[FLOAT, 1024]\n",
      "  %layer3.3.bn3.weight[FLOAT, 1024]\n",
      "  %layer3.3.conv1.weight[FLOAT, 256x1024x1x1]\n",
      "  %layer3.3.conv2.weight[FLOAT, 256x256x3x3]\n",
      "  %layer3.3.conv3.weight[FLOAT, 1024x256x1x1]\n",
      "  %layer3.4.bn1.bias[FLOAT, 256]\n",
      "  %layer3.4.bn1.running_mean[FLOAT, 256]\n",
      "  %layer3.4.bn1.running_var[FLOAT, 256]\n",
      "  %layer3.4.bn1.weight[FLOAT, 256]\n",
      "  %layer3.4.bn2.bias[FLOAT, 256]\n",
      "  %layer3.4.bn2.running_mean[FLOAT, 256]\n",
      "  %layer3.4.bn2.running_var[FLOAT, 256]\n",
      "  %layer3.4.bn2.weight[FLOAT, 256]\n",
      "  %layer3.4.bn3.bias[FLOAT, 1024]\n",
      "  %layer3.4.bn3.running_mean[FLOAT, 1024]\n",
      "  %layer3.4.bn3.running_var[FLOAT, 1024]\n",
      "  %layer3.4.bn3.weight[FLOAT, 1024]\n",
      "  %layer3.4.conv1.weight[FLOAT, 256x1024x1x1]\n",
      "  %layer3.4.conv2.weight[FLOAT, 256x256x3x3]\n",
      "  %layer3.4.conv3.weight[FLOAT, 1024x256x1x1]\n",
      "  %layer3.5.bn1.bias[FLOAT, 256]\n",
      "  %layer3.5.bn1.running_mean[FLOAT, 256]\n",
      "  %layer3.5.bn1.running_var[FLOAT, 256]\n",
      "  %layer3.5.bn1.weight[FLOAT, 256]\n",
      "  %layer3.5.bn2.bias[FLOAT, 256]\n",
      "  %layer3.5.bn2.running_mean[FLOAT, 256]\n",
      "  %layer3.5.bn2.running_var[FLOAT, 256]\n",
      "  %layer3.5.bn2.weight[FLOAT, 256]\n",
      "  %layer3.5.bn3.bias[FLOAT, 1024]\n",
      "  %layer3.5.bn3.running_mean[FLOAT, 1024]\n",
      "  %layer3.5.bn3.running_var[FLOAT, 1024]\n",
      "  %layer3.5.bn3.weight[FLOAT, 1024]\n",
      "  %layer3.5.conv1.weight[FLOAT, 256x1024x1x1]\n",
      "  %layer3.5.conv2.weight[FLOAT, 256x256x3x3]\n",
      "  %layer3.5.conv3.weight[FLOAT, 1024x256x1x1]\n",
      "  %layer3.6.bn1.bias[FLOAT, 256]\n",
      "  %layer3.6.bn1.running_mean[FLOAT, 256]\n",
      "  %layer3.6.bn1.running_var[FLOAT, 256]\n",
      "  %layer3.6.bn1.weight[FLOAT, 256]\n",
      "  %layer3.6.bn2.bias[FLOAT, 256]\n",
      "  %layer3.6.bn2.running_mean[FLOAT, 256]\n",
      "  %layer3.6.bn2.running_var[FLOAT, 256]\n",
      "  %layer3.6.bn2.weight[FLOAT, 256]\n",
      "  %layer3.6.bn3.bias[FLOAT, 1024]\n",
      "  %layer3.6.bn3.running_mean[FLOAT, 1024]\n",
      "  %layer3.6.bn3.running_var[FLOAT, 1024]\n",
      "  %layer3.6.bn3.weight[FLOAT, 1024]\n",
      "  %layer3.6.conv1.weight[FLOAT, 256x1024x1x1]\n",
      "  %layer3.6.conv2.weight[FLOAT, 256x256x3x3]\n",
      "  %layer3.6.conv3.weight[FLOAT, 1024x256x1x1]\n",
      "  %layer3.7.bn1.bias[FLOAT, 256]\n",
      "  %layer3.7.bn1.running_mean[FLOAT, 256]\n",
      "  %layer3.7.bn1.running_var[FLOAT, 256]\n",
      "  %layer3.7.bn1.weight[FLOAT, 256]\n",
      "  %layer3.7.bn2.bias[FLOAT, 256]\n",
      "  %layer3.7.bn2.running_mean[FLOAT, 256]\n",
      "  %layer3.7.bn2.running_var[FLOAT, 256]\n",
      "  %layer3.7.bn2.weight[FLOAT, 256]\n",
      "  %layer3.7.bn3.bias[FLOAT, 1024]\n",
      "  %layer3.7.bn3.running_mean[FLOAT, 1024]\n",
      "  %layer3.7.bn3.running_var[FLOAT, 1024]\n",
      "  %layer3.7.bn3.weight[FLOAT, 1024]\n",
      "  %layer3.7.conv1.weight[FLOAT, 256x1024x1x1]\n",
      "  %layer3.7.conv2.weight[FLOAT, 256x256x3x3]\n",
      "  %layer3.7.conv3.weight[FLOAT, 1024x256x1x1]\n",
      "  %layer3.8.bn1.bias[FLOAT, 256]\n",
      "  %layer3.8.bn1.running_mean[FLOAT, 256]\n",
      "  %layer3.8.bn1.running_var[FLOAT, 256]\n",
      "  %layer3.8.bn1.weight[FLOAT, 256]\n",
      "  %layer3.8.bn2.bias[FLOAT, 256]\n",
      "  %layer3.8.bn2.running_mean[FLOAT, 256]\n",
      "  %layer3.8.bn2.running_var[FLOAT, 256]\n",
      "  %layer3.8.bn2.weight[FLOAT, 256]\n",
      "  %layer3.8.bn3.bias[FLOAT, 1024]\n",
      "  %layer3.8.bn3.running_mean[FLOAT, 1024]\n",
      "  %layer3.8.bn3.running_var[FLOAT, 1024]\n",
      "  %layer3.8.bn3.weight[FLOAT, 1024]\n",
      "  %layer3.8.conv1.weight[FLOAT, 256x1024x1x1]\n",
      "  %layer3.8.conv2.weight[FLOAT, 256x256x3x3]\n",
      "  %layer3.8.conv3.weight[FLOAT, 1024x256x1x1]\n",
      "  %layer3.9.bn1.bias[FLOAT, 256]\n",
      "  %layer3.9.bn1.running_mean[FLOAT, 256]\n",
      "  %layer3.9.bn1.running_var[FLOAT, 256]\n",
      "  %layer3.9.bn1.weight[FLOAT, 256]\n",
      "  %layer3.9.bn2.bias[FLOAT, 256]\n",
      "  %layer3.9.bn2.running_mean[FLOAT, 256]\n",
      "  %layer3.9.bn2.running_var[FLOAT, 256]\n",
      "  %layer3.9.bn2.weight[FLOAT, 256]\n",
      "  %layer3.9.bn3.bias[FLOAT, 1024]\n",
      "  %layer3.9.bn3.running_mean[FLOAT, 1024]\n",
      "  %layer3.9.bn3.running_var[FLOAT, 1024]\n",
      "  %layer3.9.bn3.weight[FLOAT, 1024]\n",
      "  %layer3.9.conv1.weight[FLOAT, 256x1024x1x1]\n",
      "  %layer3.9.conv2.weight[FLOAT, 256x256x3x3]\n",
      "  %layer3.9.conv3.weight[FLOAT, 1024x256x1x1]\n",
      "  %layer4.0.bn1.bias[FLOAT, 512]\n",
      "  %layer4.0.bn1.running_mean[FLOAT, 512]\n",
      "  %layer4.0.bn1.running_var[FLOAT, 512]\n",
      "  %layer4.0.bn1.weight[FLOAT, 512]\n",
      "  %layer4.0.bn2.bias[FLOAT, 512]\n",
      "  %layer4.0.bn2.running_mean[FLOAT, 512]\n",
      "  %layer4.0.bn2.running_var[FLOAT, 512]\n",
      "  %layer4.0.bn2.weight[FLOAT, 512]\n",
      "  %layer4.0.bn3.bias[FLOAT, 2048]\n",
      "  %layer4.0.bn3.running_mean[FLOAT, 2048]\n",
      "  %layer4.0.bn3.running_var[FLOAT, 2048]\n",
      "  %layer4.0.bn3.weight[FLOAT, 2048]\n",
      "  %layer4.0.conv1.weight[FLOAT, 512x1024x1x1]\n",
      "  %layer4.0.conv2.weight[FLOAT, 512x512x3x3]\n",
      "  %layer4.0.conv3.weight[FLOAT, 2048x512x1x1]\n",
      "  %layer4.0.downsample.0.weight[FLOAT, 2048x1024x1x1]\n",
      "  %layer4.0.downsample.1.bias[FLOAT, 2048]\n",
      "  %layer4.0.downsample.1.running_mean[FLOAT, 2048]\n",
      "  %layer4.0.downsample.1.running_var[FLOAT, 2048]\n",
      "  %layer4.0.downsample.1.weight[FLOAT, 2048]\n",
      "  %layer4.1.bn1.bias[FLOAT, 512]\n",
      "  %layer4.1.bn1.running_mean[FLOAT, 512]\n",
      "  %layer4.1.bn1.running_var[FLOAT, 512]\n",
      "  %layer4.1.bn1.weight[FLOAT, 512]\n",
      "  %layer4.1.bn2.bias[FLOAT, 512]\n",
      "  %layer4.1.bn2.running_mean[FLOAT, 512]\n",
      "  %layer4.1.bn2.running_var[FLOAT, 512]\n",
      "  %layer4.1.bn2.weight[FLOAT, 512]\n",
      "  %layer4.1.bn3.bias[FLOAT, 2048]\n",
      "  %layer4.1.bn3.running_mean[FLOAT, 2048]\n",
      "  %layer4.1.bn3.running_var[FLOAT, 2048]\n",
      "  %layer4.1.bn3.weight[FLOAT, 2048]\n",
      "  %layer4.1.conv1.weight[FLOAT, 512x2048x1x1]\n",
      "  %layer4.1.conv2.weight[FLOAT, 512x512x3x3]\n",
      "  %layer4.1.conv3.weight[FLOAT, 2048x512x1x1]\n",
      "  %layer4.2.bn1.bias[FLOAT, 512]\n",
      "  %layer4.2.bn1.running_mean[FLOAT, 512]\n",
      "  %layer4.2.bn1.running_var[FLOAT, 512]\n",
      "  %layer4.2.bn1.weight[FLOAT, 512]\n",
      "  %layer4.2.bn2.bias[FLOAT, 512]\n",
      "  %layer4.2.bn2.running_mean[FLOAT, 512]\n",
      "  %layer4.2.bn2.running_var[FLOAT, 512]\n",
      "  %layer4.2.bn2.weight[FLOAT, 512]\n",
      "  %layer4.2.bn3.bias[FLOAT, 2048]\n",
      "  %layer4.2.bn3.running_mean[FLOAT, 2048]\n",
      "  %layer4.2.bn3.running_var[FLOAT, 2048]\n",
      "  %layer4.2.bn3.weight[FLOAT, 2048]\n",
      "  %layer4.2.conv1.weight[FLOAT, 512x2048x1x1]\n",
      "  %layer4.2.conv2.weight[FLOAT, 512x512x3x3]\n",
      "  %layer4.2.conv3.weight[FLOAT, 2048x512x1x1]\n",
      ") {\n",
      "  %710 = Conv[dilations = [1, 1], group = 1, kernel_shape = [3, 3], pads = [1, 1, 1, 1], strides = [2, 2]](%input, %conv1.weight)\n",
      "  %711 = BatchNormalization[epsilon = 9.99999974737875e-06, momentum = 0.899999976158142](%710, %bn1.weight, %bn1.bias, %bn1.running_mean, %bn1.running_var)\n",
      "  %712 = Relu(%711)\n",
      "  %713 = Conv[dilations = [1, 1], group = 1, kernel_shape = [3, 3], pads = [1, 1, 1, 1], strides = [1, 1]](%712, %conv2.weight)\n",
      "  %714 = BatchNormalization[epsilon = 9.99999974737875e-06, momentum = 0.899999976158142](%713, %bn2.weight, %bn2.bias, %bn2.running_mean, %bn2.running_var)\n",
      "  %715 = Relu(%714)\n",
      "  %716 = Conv[dilations = [1, 1], group = 1, kernel_shape = [3, 3], pads = [1, 1, 1, 1], strides = [1, 1]](%715, %conv3.weight)\n",
      "  %717 = BatchNormalization[epsilon = 9.99999974737875e-06, momentum = 0.899999976158142](%716, %bn3.weight, %bn3.bias, %bn3.running_mean, %bn3.running_var)\n",
      "  %718 = Relu(%717)\n",
      "  %719 = MaxPool[ceil_mode = 0, kernel_shape = [3, 3], pads = [1, 1, 1, 1], strides = [2, 2]](%718)\n",
      "  %720 = Conv[dilations = [1, 1], group = 1, kernel_shape = [1, 1], pads = [0, 0, 0, 0], strides = [1, 1]](%719, %layer1.0.conv1.weight)\n",
      "  %721 = BatchNormalization[epsilon = 9.99999974737875e-06, momentum = 0.899999976158142](%720, %layer1.0.bn1.weight, %layer1.0.bn1.bias, %layer1.0.bn1.running_mean, %layer1.0.bn1.running_var)\n",
      "  %722 = Relu(%721)\n",
      "  %723 = Conv[dilations = [1, 1], group = 1, kernel_shape = [3, 3], pads = [1, 1, 1, 1], strides = [1, 1]](%722, %layer1.0.conv2.weight)\n",
      "  %724 = BatchNormalization[epsilon = 9.99999974737875e-06, momentum = 0.899999976158142](%723, %layer1.0.bn2.weight, %layer1.0.bn2.bias, %layer1.0.bn2.running_mean, %layer1.0.bn2.running_var)\n",
      "  %725 = Relu(%724)\n",
      "  %726 = Conv[dilations = [1, 1], group = 1, kernel_shape = [1, 1], pads = [0, 0, 0, 0], strides = [1, 1]](%725, %layer1.0.conv3.weight)\n",
      "  %727 = BatchNormalization[epsilon = 9.99999974737875e-06, momentum = 0.899999976158142](%726, %layer1.0.bn3.weight, %layer1.0.bn3.bias, %layer1.0.bn3.running_mean, %layer1.0.bn3.running_var)\n",
      "  %728 = Conv[dilations = [1, 1], group = 1, kernel_shape = [1, 1], pads = [0, 0, 0, 0], strides = [1, 1]](%719, %layer1.0.downsample.0.weight)\n",
      "  %729 = BatchNormalization[epsilon = 9.99999974737875e-06, momentum = 0.899999976158142](%728, %layer1.0.downsample.1.weight, %layer1.0.downsample.1.bias, %layer1.0.downsample.1.running_mean, %layer1.0.downsample.1.running_var)\n",
      "  %730 = Add(%727, %729)\n",
      "  %731 = Relu(%730)\n",
      "  %732 = Conv[dilations = [1, 1], group = 1, kernel_shape = [1, 1], pads = [0, 0, 0, 0], strides = [1, 1]](%731, %layer1.1.conv1.weight)\n",
      "  %733 = BatchNormalization[epsilon = 9.99999974737875e-06, momentum = 0.899999976158142](%732, %layer1.1.bn1.weight, %layer1.1.bn1.bias, %layer1.1.bn1.running_mean, %layer1.1.bn1.running_var)\n",
      "  %734 = Relu(%733)\n",
      "  %735 = Conv[dilations = [1, 1], group = 1, kernel_shape = [3, 3], pads = [1, 1, 1, 1], strides = [1, 1]](%734, %layer1.1.conv2.weight)\n",
      "  %736 = BatchNormalization[epsilon = 9.99999974737875e-06, momentum = 0.899999976158142](%735, %layer1.1.bn2.weight, %layer1.1.bn2.bias, %layer1.1.bn2.running_mean, %layer1.1.bn2.running_var)\n",
      "  %737 = Relu(%736)\n",
      "  %738 = Conv[dilations = [1, 1], group = 1, kernel_shape = [1, 1], pads = [0, 0, 0, 0], strides = [1, 1]](%737, %layer1.1.conv3.weight)\n",
      "  %739 = BatchNormalization[epsilon = 9.99999974737875e-06, momentum = 0.899999976158142](%738, %layer1.1.bn3.weight, %layer1.1.bn3.bias, %layer1.1.bn3.running_mean, %layer1.1.bn3.running_var)\n",
      "  %740 = Add(%739, %731)\n",
      "  %741 = Relu(%740)\n",
      "  %742 = Conv[dilations = [1, 1], group = 1, kernel_shape = [1, 1], pads = [0, 0, 0, 0], strides = [1, 1]](%741, %layer1.2.conv1.weight)\n",
      "  %743 = BatchNormalization[epsilon = 9.99999974737875e-06, momentum = 0.899999976158142](%742, %layer1.2.bn1.weight, %layer1.2.bn1.bias, %layer1.2.bn1.running_mean, %layer1.2.bn1.running_var)\n",
      "  %744 = Relu(%743)\n",
      "  %745 = Conv[dilations = [1, 1], group = 1, kernel_shape = [3, 3], pads = [1, 1, 1, 1], strides = [1, 1]](%744, %layer1.2.conv2.weight)\n",
      "  %746 = BatchNormalization[epsilon = 9.99999974737875e-06, momentum = 0.899999976158142](%745, %layer1.2.bn2.weight, %layer1.2.bn2.bias, %layer1.2.bn2.running_mean, %layer1.2.bn2.running_var)\n",
      "  %747 = Relu(%746)\n",
      "  %748 = Conv[dilations = [1, 1], group = 1, kernel_shape = [1, 1], pads = [0, 0, 0, 0], strides = [1, 1]](%747, %layer1.2.conv3.weight)\n",
      "  %749 = BatchNormalization[epsilon = 9.99999974737875e-06, momentum = 0.899999976158142](%748, %layer1.2.bn3.weight, %layer1.2.bn3.bias, %layer1.2.bn3.running_mean, %layer1.2.bn3.running_var)\n",
      "  %750 = Add(%749, %741)\n",
      "  %751 = Relu(%750)\n",
      "  %752 = Conv[dilations = [1, 1], group = 1, kernel_shape = [1, 1], pads = [0, 0, 0, 0], strides = [1, 1]](%751, %layer2.0.conv1.weight)\n",
      "  %753 = BatchNormalization[epsilon = 9.99999974737875e-06, momentum = 0.899999976158142](%752, %layer2.0.bn1.weight, %layer2.0.bn1.bias, %layer2.0.bn1.running_mean, %layer2.0.bn1.running_var)\n",
      "  %754 = Relu(%753)\n",
      "  %755 = Conv[dilations = [1, 1], group = 1, kernel_shape = [3, 3], pads = [1, 1, 1, 1], strides = [2, 2]](%754, %layer2.0.conv2.weight)\n",
      "  %756 = BatchNormalization[epsilon = 9.99999974737875e-06, momentum = 0.899999976158142](%755, %layer2.0.bn2.weight, %layer2.0.bn2.bias, %layer2.0.bn2.running_mean, %layer2.0.bn2.running_var)\n",
      "  %757 = Relu(%756)\n",
      "  %758 = Conv[dilations = [1, 1], group = 1, kernel_shape = [1, 1], pads = [0, 0, 0, 0], strides = [1, 1]](%757, %layer2.0.conv3.weight)\n",
      "  %759 = BatchNormalization[epsilon = 9.99999974737875e-06, momentum = 0.899999976158142](%758, %layer2.0.bn3.weight, %layer2.0.bn3.bias, %layer2.0.bn3.running_mean, %layer2.0.bn3.running_var)\n",
      "  %760 = Conv[dilations = [1, 1], group = 1, kernel_shape = [1, 1], pads = [0, 0, 0, 0], strides = [2, 2]](%751, %layer2.0.downsample.0.weight)\n",
      "  %761 = BatchNormalization[epsilon = 9.99999974737875e-06, momentum = 0.899999976158142](%760, %layer2.0.downsample.1.weight, %layer2.0.downsample.1.bias, %layer2.0.downsample.1.running_mean, %layer2.0.downsample.1.running_var)\n",
      "  %762 = Add(%759, %761)\n",
      "  %763 = Relu(%762)\n",
      "  %764 = Conv[dilations = [1, 1], group = 1, kernel_shape = [1, 1], pads = [0, 0, 0, 0], strides = [1, 1]](%763, %layer2.1.conv1.weight)\n",
      "  %765 = BatchNormalization[epsilon = 9.99999974737875e-06, momentum = 0.899999976158142](%764, %layer2.1.bn1.weight, %layer2.1.bn1.bias, %layer2.1.bn1.running_mean, %layer2.1.bn1.running_var)\n",
      "  %766 = Relu(%765)\n",
      "  %767 = Conv[dilations = [1, 1], group = 1, kernel_shape = [3, 3], pads = [1, 1, 1, 1], strides = [1, 1]](%766, %layer2.1.conv2.weight)\n",
      "  %768 = BatchNormalization[epsilon = 9.99999974737875e-06, momentum = 0.899999976158142](%767, %layer2.1.bn2.weight, %layer2.1.bn2.bias, %layer2.1.bn2.running_mean, %layer2.1.bn2.running_var)\n",
      "  %769 = Relu(%768)\n",
      "  %770 = Conv[dilations = [1, 1], group = 1, kernel_shape = [1, 1], pads = [0, 0, 0, 0], strides = [1, 1]](%769, %layer2.1.conv3.weight)\n",
      "  %771 = BatchNormalization[epsilon = 9.99999974737875e-06, momentum = 0.899999976158142](%770, %layer2.1.bn3.weight, %layer2.1.bn3.bias, %layer2.1.bn3.running_mean, %layer2.1.bn3.running_var)\n",
      "  %772 = Add(%771, %763)\n",
      "  %773 = Relu(%772)\n",
      "  %774 = Conv[dilations = [1, 1], group = 1, kernel_shape = [1, 1], pads = [0, 0, 0, 0], strides = [1, 1]](%773, %layer2.2.conv1.weight)\n",
      "  %775 = BatchNormalization[epsilon = 9.99999974737875e-06, momentum = 0.899999976158142](%774, %layer2.2.bn1.weight, %layer2.2.bn1.bias, %layer2.2.bn1.running_mean, %layer2.2.bn1.running_var)\n",
      "  %776 = Relu(%775)\n",
      "  %777 = Conv[dilations = [1, 1], group = 1, kernel_shape = [3, 3], pads = [1, 1, 1, 1], strides = [1, 1]](%776, %layer2.2.conv2.weight)\n",
      "  %778 = BatchNormalization[epsilon = 9.99999974737875e-06, momentum = 0.899999976158142](%777, %layer2.2.bn2.weight, %layer2.2.bn2.bias, %layer2.2.bn2.running_mean, %layer2.2.bn2.running_var)\n",
      "  %779 = Relu(%778)\n",
      "  %780 = Conv[dilations = [1, 1], group = 1, kernel_shape = [1, 1], pads = [0, 0, 0, 0], strides = [1, 1]](%779, %layer2.2.conv3.weight)\n",
      "  %781 = BatchNormalization[epsilon = 9.99999974737875e-06, momentum = 0.899999976158142](%780, %layer2.2.bn3.weight, %layer2.2.bn3.bias, %layer2.2.bn3.running_mean, %layer2.2.bn3.running_var)\n",
      "  %782 = Add(%781, %773)\n",
      "  %783 = Relu(%782)\n",
      "  %784 = Conv[dilations = [1, 1], group = 1, kernel_shape = [1, 1], pads = [0, 0, 0, 0], strides = [1, 1]](%783, %layer2.3.conv1.weight)\n",
      "  %785 = BatchNormalization[epsilon = 9.99999974737875e-06, momentum = 0.899999976158142](%784, %layer2.3.bn1.weight, %layer2.3.bn1.bias, %layer2.3.bn1.running_mean, %layer2.3.bn1.running_var)\n",
      "  %786 = Relu(%785)\n",
      "  %787 = Conv[dilations = [1, 1], group = 1, kernel_shape = [3, 3], pads = [1, 1, 1, 1], strides = [1, 1]](%786, %layer2.3.conv2.weight)\n",
      "  %788 = BatchNormalization[epsilon = 9.99999974737875e-06, momentum = 0.899999976158142](%787, %layer2.3.bn2.weight, %layer2.3.bn2.bias, %layer2.3.bn2.running_mean, %layer2.3.bn2.running_var)\n",
      "  %789 = Relu(%788)\n",
      "  %790 = Conv[dilations = [1, 1], group = 1, kernel_shape = [1, 1], pads = [0, 0, 0, 0], strides = [1, 1]](%789, %layer2.3.conv3.weight)\n",
      "  %791 = BatchNormalization[epsilon = 9.99999974737875e-06, momentum = 0.899999976158142](%790, %layer2.3.bn3.weight, %layer2.3.bn3.bias, %layer2.3.bn3.running_mean, %layer2.3.bn3.running_var)\n",
      "  %792 = Add(%791, %783)\n",
      "  %793 = Relu(%792)\n",
      "  %794 = Conv[dilations = [1, 1], group = 1, kernel_shape = [1, 1], pads = [0, 0, 0, 0], strides = [1, 1]](%793, %layer3.0.conv1.weight)\n",
      "  %795 = BatchNormalization[epsilon = 9.99999974737875e-06, momentum = 0.899999976158142](%794, %layer3.0.bn1.weight, %layer3.0.bn1.bias, %layer3.0.bn1.running_mean, %layer3.0.bn1.running_var)\n",
      "  %796 = Relu(%795)\n",
      "  %797 = Conv[dilations = [1, 1], group = 1, kernel_shape = [3, 3], pads = [1, 1, 1, 1], strides = [2, 2]](%796, %layer3.0.conv2.weight)\n",
      "  %798 = BatchNormalization[epsilon = 9.99999974737875e-06, momentum = 0.899999976158142](%797, %layer3.0.bn2.weight, %layer3.0.bn2.bias, %layer3.0.bn2.running_mean, %layer3.0.bn2.running_var)\n",
      "  %799 = Relu(%798)\n",
      "  %800 = Conv[dilations = [1, 1], group = 1, kernel_shape = [1, 1], pads = [0, 0, 0, 0], strides = [1, 1]](%799, %layer3.0.conv3.weight)\n",
      "  %801 = BatchNormalization[epsilon = 9.99999974737875e-06, momentum = 0.899999976158142](%800, %layer3.0.bn3.weight, %layer3.0.bn3.bias, %layer3.0.bn3.running_mean, %layer3.0.bn3.running_var)\n",
      "  %802 = Conv[dilations = [1, 1], group = 1, kernel_shape = [1, 1], pads = [0, 0, 0, 0], strides = [2, 2]](%793, %layer3.0.downsample.0.weight)\n",
      "  %803 = BatchNormalization[epsilon = 9.99999974737875e-06, momentum = 0.899999976158142](%802, %layer3.0.downsample.1.weight, %layer3.0.downsample.1.bias, %layer3.0.downsample.1.running_mean, %layer3.0.downsample.1.running_var)\n",
      "  %804 = Add(%801, %803)\n",
      "  %805 = Relu(%804)\n",
      "  %806 = Conv[dilations = [1, 1], group = 1, kernel_shape = [1, 1], pads = [0, 0, 0, 0], strides = [1, 1]](%805, %layer3.1.conv1.weight)\n",
      "  %807 = BatchNormalization[epsilon = 9.99999974737875e-06, momentum = 0.899999976158142](%806, %layer3.1.bn1.weight, %layer3.1.bn1.bias, %layer3.1.bn1.running_mean, %layer3.1.bn1.running_var)\n",
      "  %808 = Relu(%807)\n",
      "  %809 = Conv[dilations = [1, 1], group = 1, kernel_shape = [3, 3], pads = [1, 1, 1, 1], strides = [1, 1]](%808, %layer3.1.conv2.weight)\n",
      "  %810 = BatchNormalization[epsilon = 9.99999974737875e-06, momentum = 0.899999976158142](%809, %layer3.1.bn2.weight, %layer3.1.bn2.bias, %layer3.1.bn2.running_mean, %layer3.1.bn2.running_var)\n",
      "  %811 = Relu(%810)\n",
      "  %812 = Conv[dilations = [1, 1], group = 1, kernel_shape = [1, 1], pads = [0, 0, 0, 0], strides = [1, 1]](%811, %layer3.1.conv3.weight)\n",
      "  %813 = BatchNormalization[epsilon = 9.99999974737875e-06, momentum = 0.899999976158142](%812, %layer3.1.bn3.weight, %layer3.1.bn3.bias, %layer3.1.bn3.running_mean, %layer3.1.bn3.running_var)\n",
      "  %814 = Add(%813, %805)\n",
      "  %815 = Relu(%814)\n",
      "  %816 = Conv[dilations = [1, 1], group = 1, kernel_shape = [1, 1], pads = [0, 0, 0, 0], strides = [1, 1]](%815, %layer3.2.conv1.weight)\n",
      "  %817 = BatchNormalization[epsilon = 9.99999974737875e-06, momentum = 0.899999976158142](%816, %layer3.2.bn1.weight, %layer3.2.bn1.bias, %layer3.2.bn1.running_mean, %layer3.2.bn1.running_var)\n",
      "  %818 = Relu(%817)\n",
      "  %819 = Conv[dilations = [1, 1], group = 1, kernel_shape = [3, 3], pads = [1, 1, 1, 1], strides = [1, 1]](%818, %layer3.2.conv2.weight)\n",
      "  %820 = BatchNormalization[epsilon = 9.99999974737875e-06, momentum = 0.899999976158142](%819, %layer3.2.bn2.weight, %layer3.2.bn2.bias, %layer3.2.bn2.running_mean, %layer3.2.bn2.running_var)\n",
      "  %821 = Relu(%820)\n",
      "  %822 = Conv[dilations = [1, 1], group = 1, kernel_shape = [1, 1], pads = [0, 0, 0, 0], strides = [1, 1]](%821, %layer3.2.conv3.weight)\n",
      "  %823 = BatchNormalization[epsilon = 9.99999974737875e-06, momentum = 0.899999976158142](%822, %layer3.2.bn3.weight, %layer3.2.bn3.bias, %layer3.2.bn3.running_mean, %layer3.2.bn3.running_var)\n",
      "  %824 = Add(%823, %815)\n",
      "  %825 = Relu(%824)\n",
      "  %826 = Conv[dilations = [1, 1], group = 1, kernel_shape = [1, 1], pads = [0, 0, 0, 0], strides = [1, 1]](%825, %layer3.3.conv1.weight)\n",
      "  %827 = BatchNormalization[epsilon = 9.99999974737875e-06, momentum = 0.899999976158142](%826, %layer3.3.bn1.weight, %layer3.3.bn1.bias, %layer3.3.bn1.running_mean, %layer3.3.bn1.running_var)\n",
      "  %828 = Relu(%827)\n",
      "  %829 = Conv[dilations = [1, 1], group = 1, kernel_shape = [3, 3], pads = [1, 1, 1, 1], strides = [1, 1]](%828, %layer3.3.conv2.weight)\n",
      "  %830 = BatchNormalization[epsilon = 9.99999974737875e-06, momentum = 0.899999976158142](%829, %layer3.3.bn2.weight, %layer3.3.bn2.bias, %layer3.3.bn2.running_mean, %layer3.3.bn2.running_var)\n",
      "  %831 = Relu(%830)\n",
      "  %832 = Conv[dilations = [1, 1], group = 1, kernel_shape = [1, 1], pads = [0, 0, 0, 0], strides = [1, 1]](%831, %layer3.3.conv3.weight)\n",
      "  %833 = BatchNormalization[epsilon = 9.99999974737875e-06, momentum = 0.899999976158142](%832, %layer3.3.bn3.weight, %layer3.3.bn3.bias, %layer3.3.bn3.running_mean, %layer3.3.bn3.running_var)\n",
      "  %834 = Add(%833, %825)\n",
      "  %835 = Relu(%834)\n",
      "  %836 = Conv[dilations = [1, 1], group = 1, kernel_shape = [1, 1], pads = [0, 0, 0, 0], strides = [1, 1]](%835, %layer3.4.conv1.weight)\n",
      "  %837 = BatchNormalization[epsilon = 9.99999974737875e-06, momentum = 0.899999976158142](%836, %layer3.4.bn1.weight, %layer3.4.bn1.bias, %layer3.4.bn1.running_mean, %layer3.4.bn1.running_var)\n",
      "  %838 = Relu(%837)\n",
      "  %839 = Conv[dilations = [1, 1], group = 1, kernel_shape = [3, 3], pads = [1, 1, 1, 1], strides = [1, 1]](%838, %layer3.4.conv2.weight)\n",
      "  %840 = BatchNormalization[epsilon = 9.99999974737875e-06, momentum = 0.899999976158142](%839, %layer3.4.bn2.weight, %layer3.4.bn2.bias, %layer3.4.bn2.running_mean, %layer3.4.bn2.running_var)\n",
      "  %841 = Relu(%840)\n",
      "  %842 = Conv[dilations = [1, 1], group = 1, kernel_shape = [1, 1], pads = [0, 0, 0, 0], strides = [1, 1]](%841, %layer3.4.conv3.weight)\n",
      "  %843 = BatchNormalization[epsilon = 9.99999974737875e-06, momentum = 0.899999976158142](%842, %layer3.4.bn3.weight, %layer3.4.bn3.bias, %layer3.4.bn3.running_mean, %layer3.4.bn3.running_var)\n",
      "  %844 = Add(%843, %835)\n",
      "  %845 = Relu(%844)\n",
      "  %846 = Conv[dilations = [1, 1], group = 1, kernel_shape = [1, 1], pads = [0, 0, 0, 0], strides = [1, 1]](%845, %layer3.5.conv1.weight)\n",
      "  %847 = BatchNormalization[epsilon = 9.99999974737875e-06, momentum = 0.899999976158142](%846, %layer3.5.bn1.weight, %layer3.5.bn1.bias, %layer3.5.bn1.running_mean, %layer3.5.bn1.running_var)\n",
      "  %848 = Relu(%847)\n",
      "  %849 = Conv[dilations = [1, 1], group = 1, kernel_shape = [3, 3], pads = [1, 1, 1, 1], strides = [1, 1]](%848, %layer3.5.conv2.weight)\n",
      "  %850 = BatchNormalization[epsilon = 9.99999974737875e-06, momentum = 0.899999976158142](%849, %layer3.5.bn2.weight, %layer3.5.bn2.bias, %layer3.5.bn2.running_mean, %layer3.5.bn2.running_var)\n",
      "  %851 = Relu(%850)\n",
      "  %852 = Conv[dilations = [1, 1], group = 1, kernel_shape = [1, 1], pads = [0, 0, 0, 0], strides = [1, 1]](%851, %layer3.5.conv3.weight)\n",
      "  %853 = BatchNormalization[epsilon = 9.99999974737875e-06, momentum = 0.899999976158142](%852, %layer3.5.bn3.weight, %layer3.5.bn3.bias, %layer3.5.bn3.running_mean, %layer3.5.bn3.running_var)\n",
      "  %854 = Add(%853, %845)\n",
      "  %855 = Relu(%854)\n",
      "  %856 = Conv[dilations = [1, 1], group = 1, kernel_shape = [1, 1], pads = [0, 0, 0, 0], strides = [1, 1]](%855, %layer3.6.conv1.weight)\n",
      "  %857 = BatchNormalization[epsilon = 9.99999974737875e-06, momentum = 0.899999976158142](%856, %layer3.6.bn1.weight, %layer3.6.bn1.bias, %layer3.6.bn1.running_mean, %layer3.6.bn1.running_var)\n",
      "  %858 = Relu(%857)\n",
      "  %859 = Conv[dilations = [1, 1], group = 1, kernel_shape = [3, 3], pads = [1, 1, 1, 1], strides = [1, 1]](%858, %layer3.6.conv2.weight)\n",
      "  %860 = BatchNormalization[epsilon = 9.99999974737875e-06, momentum = 0.899999976158142](%859, %layer3.6.bn2.weight, %layer3.6.bn2.bias, %layer3.6.bn2.running_mean, %layer3.6.bn2.running_var)\n",
      "  %861 = Relu(%860)\n",
      "  %862 = Conv[dilations = [1, 1], group = 1, kernel_shape = [1, 1], pads = [0, 0, 0, 0], strides = [1, 1]](%861, %layer3.6.conv3.weight)\n",
      "  %863 = BatchNormalization[epsilon = 9.99999974737875e-06, momentum = 0.899999976158142](%862, %layer3.6.bn3.weight, %layer3.6.bn3.bias, %layer3.6.bn3.running_mean, %layer3.6.bn3.running_var)\n",
      "  %864 = Add(%863, %855)\n",
      "  %865 = Relu(%864)\n",
      "  %866 = Conv[dilations = [1, 1], group = 1, kernel_shape = [1, 1], pads = [0, 0, 0, 0], strides = [1, 1]](%865, %layer3.7.conv1.weight)\n",
      "  %867 = BatchNormalization[epsilon = 9.99999974737875e-06, momentum = 0.899999976158142](%866, %layer3.7.bn1.weight, %layer3.7.bn1.bias, %layer3.7.bn1.running_mean, %layer3.7.bn1.running_var)\n",
      "  %868 = Relu(%867)\n",
      "  %869 = Conv[dilations = [1, 1], group = 1, kernel_shape = [3, 3], pads = [1, 1, 1, 1], strides = [1, 1]](%868, %layer3.7.conv2.weight)\n",
      "  %870 = BatchNormalization[epsilon = 9.99999974737875e-06, momentum = 0.899999976158142](%869, %layer3.7.bn2.weight, %layer3.7.bn2.bias, %layer3.7.bn2.running_mean, %layer3.7.bn2.running_var)\n",
      "  %871 = Relu(%870)\n",
      "  %872 = Conv[dilations = [1, 1], group = 1, kernel_shape = [1, 1], pads = [0, 0, 0, 0], strides = [1, 1]](%871, %layer3.7.conv3.weight)\n",
      "  %873 = BatchNormalization[epsilon = 9.99999974737875e-06, momentum = 0.899999976158142](%872, %layer3.7.bn3.weight, %layer3.7.bn3.bias, %layer3.7.bn3.running_mean, %layer3.7.bn3.running_var)\n",
      "  %874 = Add(%873, %865)\n",
      "  %875 = Relu(%874)\n",
      "  %876 = Conv[dilations = [1, 1], group = 1, kernel_shape = [1, 1], pads = [0, 0, 0, 0], strides = [1, 1]](%875, %layer3.8.conv1.weight)\n",
      "  %877 = BatchNormalization[epsilon = 9.99999974737875e-06, momentum = 0.899999976158142](%876, %layer3.8.bn1.weight, %layer3.8.bn1.bias, %layer3.8.bn1.running_mean, %layer3.8.bn1.running_var)\n",
      "  %878 = Relu(%877)\n",
      "  %879 = Conv[dilations = [1, 1], group = 1, kernel_shape = [3, 3], pads = [1, 1, 1, 1], strides = [1, 1]](%878, %layer3.8.conv2.weight)\n",
      "  %880 = BatchNormalization[epsilon = 9.99999974737875e-06, momentum = 0.899999976158142](%879, %layer3.8.bn2.weight, %layer3.8.bn2.bias, %layer3.8.bn2.running_mean, %layer3.8.bn2.running_var)\n",
      "  %881 = Relu(%880)\n",
      "  %882 = Conv[dilations = [1, 1], group = 1, kernel_shape = [1, 1], pads = [0, 0, 0, 0], strides = [1, 1]](%881, %layer3.8.conv3.weight)\n",
      "  %883 = BatchNormalization[epsilon = 9.99999974737875e-06, momentum = 0.899999976158142](%882, %layer3.8.bn3.weight, %layer3.8.bn3.bias, %layer3.8.bn3.running_mean, %layer3.8.bn3.running_var)\n",
      "  %884 = Add(%883, %875)\n",
      "  %885 = Relu(%884)\n",
      "  %886 = Conv[dilations = [1, 1], group = 1, kernel_shape = [1, 1], pads = [0, 0, 0, 0], strides = [1, 1]](%885, %layer3.9.conv1.weight)\n",
      "  %887 = BatchNormalization[epsilon = 9.99999974737875e-06, momentum = 0.899999976158142](%886, %layer3.9.bn1.weight, %layer3.9.bn1.bias, %layer3.9.bn1.running_mean, %layer3.9.bn1.running_var)\n",
      "  %888 = Relu(%887)\n",
      "  %889 = Conv[dilations = [1, 1], group = 1, kernel_shape = [3, 3], pads = [1, 1, 1, 1], strides = [1, 1]](%888, %layer3.9.conv2.weight)\n",
      "  %890 = BatchNormalization[epsilon = 9.99999974737875e-06, momentum = 0.899999976158142](%889, %layer3.9.bn2.weight, %layer3.9.bn2.bias, %layer3.9.bn2.running_mean, %layer3.9.bn2.running_var)\n",
      "  %891 = Relu(%890)\n",
      "  %892 = Conv[dilations = [1, 1], group = 1, kernel_shape = [1, 1], pads = [0, 0, 0, 0], strides = [1, 1]](%891, %layer3.9.conv3.weight)\n",
      "  %893 = BatchNormalization[epsilon = 9.99999974737875e-06, momentum = 0.899999976158142](%892, %layer3.9.bn3.weight, %layer3.9.bn3.bias, %layer3.9.bn3.running_mean, %layer3.9.bn3.running_var)\n",
      "  %894 = Add(%893, %885)\n",
      "  %895 = Relu(%894)\n",
      "  %896 = Conv[dilations = [1, 1], group = 1, kernel_shape = [1, 1], pads = [0, 0, 0, 0], strides = [1, 1]](%895, %layer3.10.conv1.weight)\n",
      "  %897 = BatchNormalization[epsilon = 9.99999974737875e-06, momentum = 0.899999976158142](%896, %layer3.10.bn1.weight, %layer3.10.bn1.bias, %layer3.10.bn1.running_mean, %layer3.10.bn1.running_var)\n",
      "  %898 = Relu(%897)\n",
      "  %899 = Conv[dilations = [1, 1], group = 1, kernel_shape = [3, 3], pads = [1, 1, 1, 1], strides = [1, 1]](%898, %layer3.10.conv2.weight)\n",
      "  %900 = BatchNormalization[epsilon = 9.99999974737875e-06, momentum = 0.899999976158142](%899, %layer3.10.bn2.weight, %layer3.10.bn2.bias, %layer3.10.bn2.running_mean, %layer3.10.bn2.running_var)\n",
      "  %901 = Relu(%900)\n",
      "  %902 = Conv[dilations = [1, 1], group = 1, kernel_shape = [1, 1], pads = [0, 0, 0, 0], strides = [1, 1]](%901, %layer3.10.conv3.weight)\n",
      "  %903 = BatchNormalization[epsilon = 9.99999974737875e-06, momentum = 0.899999976158142](%902, %layer3.10.bn3.weight, %layer3.10.bn3.bias, %layer3.10.bn3.running_mean, %layer3.10.bn3.running_var)\n",
      "  %904 = Add(%903, %895)\n",
      "  %905 = Relu(%904)\n",
      "  %906 = Conv[dilations = [1, 1], group = 1, kernel_shape = [1, 1], pads = [0, 0, 0, 0], strides = [1, 1]](%905, %layer3.11.conv1.weight)\n",
      "  %907 = BatchNormalization[epsilon = 9.99999974737875e-06, momentum = 0.899999976158142](%906, %layer3.11.bn1.weight, %layer3.11.bn1.bias, %layer3.11.bn1.running_mean, %layer3.11.bn1.running_var)\n",
      "  %908 = Relu(%907)\n",
      "  %909 = Conv[dilations = [1, 1], group = 1, kernel_shape = [3, 3], pads = [1, 1, 1, 1], strides = [1, 1]](%908, %layer3.11.conv2.weight)\n",
      "  %910 = BatchNormalization[epsilon = 9.99999974737875e-06, momentum = 0.899999976158142](%909, %layer3.11.bn2.weight, %layer3.11.bn2.bias, %layer3.11.bn2.running_mean, %layer3.11.bn2.running_var)\n",
      "  %911 = Relu(%910)\n",
      "  %912 = Conv[dilations = [1, 1], group = 1, kernel_shape = [1, 1], pads = [0, 0, 0, 0], strides = [1, 1]](%911, %layer3.11.conv3.weight)\n",
      "  %913 = BatchNormalization[epsilon = 9.99999974737875e-06, momentum = 0.899999976158142](%912, %layer3.11.bn3.weight, %layer3.11.bn3.bias, %layer3.11.bn3.running_mean, %layer3.11.bn3.running_var)\n",
      "  %914 = Add(%913, %905)\n",
      "  %915 = Relu(%914)\n",
      "  %916 = Conv[dilations = [1, 1], group = 1, kernel_shape = [1, 1], pads = [0, 0, 0, 0], strides = [1, 1]](%915, %layer3.12.conv1.weight)\n",
      "  %917 = BatchNormalization[epsilon = 9.99999974737875e-06, momentum = 0.899999976158142](%916, %layer3.12.bn1.weight, %layer3.12.bn1.bias, %layer3.12.bn1.running_mean, %layer3.12.bn1.running_var)\n",
      "  %918 = Relu(%917)\n",
      "  %919 = Conv[dilations = [1, 1], group = 1, kernel_shape = [3, 3], pads = [1, 1, 1, 1], strides = [1, 1]](%918, %layer3.12.conv2.weight)\n",
      "  %920 = BatchNormalization[epsilon = 9.99999974737875e-06, momentum = 0.899999976158142](%919, %layer3.12.bn2.weight, %layer3.12.bn2.bias, %layer3.12.bn2.running_mean, %layer3.12.bn2.running_var)\n",
      "  %921 = Relu(%920)\n",
      "  %922 = Conv[dilations = [1, 1], group = 1, kernel_shape = [1, 1], pads = [0, 0, 0, 0], strides = [1, 1]](%921, %layer3.12.conv3.weight)\n",
      "  %923 = BatchNormalization[epsilon = 9.99999974737875e-06, momentum = 0.899999976158142](%922, %layer3.12.bn3.weight, %layer3.12.bn3.bias, %layer3.12.bn3.running_mean, %layer3.12.bn3.running_var)\n",
      "  %924 = Add(%923, %915)\n",
      "  %925 = Relu(%924)\n",
      "  %926 = Conv[dilations = [1, 1], group = 1, kernel_shape = [1, 1], pads = [0, 0, 0, 0], strides = [1, 1]](%925, %layer3.13.conv1.weight)\n",
      "  %927 = BatchNormalization[epsilon = 9.99999974737875e-06, momentum = 0.899999976158142](%926, %layer3.13.bn1.weight, %layer3.13.bn1.bias, %layer3.13.bn1.running_mean, %layer3.13.bn1.running_var)\n",
      "  %928 = Relu(%927)\n",
      "  %929 = Conv[dilations = [1, 1], group = 1, kernel_shape = [3, 3], pads = [1, 1, 1, 1], strides = [1, 1]](%928, %layer3.13.conv2.weight)\n",
      "  %930 = BatchNormalization[epsilon = 9.99999974737875e-06, momentum = 0.899999976158142](%929, %layer3.13.bn2.weight, %layer3.13.bn2.bias, %layer3.13.bn2.running_mean, %layer3.13.bn2.running_var)\n",
      "  %931 = Relu(%930)\n",
      "  %932 = Conv[dilations = [1, 1], group = 1, kernel_shape = [1, 1], pads = [0, 0, 0, 0], strides = [1, 1]](%931, %layer3.13.conv3.weight)\n",
      "  %933 = BatchNormalization[epsilon = 9.99999974737875e-06, momentum = 0.899999976158142](%932, %layer3.13.bn3.weight, %layer3.13.bn3.bias, %layer3.13.bn3.running_mean, %layer3.13.bn3.running_var)\n",
      "  %934 = Add(%933, %925)\n",
      "  %935 = Relu(%934)\n",
      "  %936 = Conv[dilations = [1, 1], group = 1, kernel_shape = [1, 1], pads = [0, 0, 0, 0], strides = [1, 1]](%935, %layer3.14.conv1.weight)\n",
      "  %937 = BatchNormalization[epsilon = 9.99999974737875e-06, momentum = 0.899999976158142](%936, %layer3.14.bn1.weight, %layer3.14.bn1.bias, %layer3.14.bn1.running_mean, %layer3.14.bn1.running_var)\n",
      "  %938 = Relu(%937)\n",
      "  %939 = Conv[dilations = [1, 1], group = 1, kernel_shape = [3, 3], pads = [1, 1, 1, 1], strides = [1, 1]](%938, %layer3.14.conv2.weight)\n",
      "  %940 = BatchNormalization[epsilon = 9.99999974737875e-06, momentum = 0.899999976158142](%939, %layer3.14.bn2.weight, %layer3.14.bn2.bias, %layer3.14.bn2.running_mean, %layer3.14.bn2.running_var)\n",
      "  %941 = Relu(%940)\n",
      "  %942 = Conv[dilations = [1, 1], group = 1, kernel_shape = [1, 1], pads = [0, 0, 0, 0], strides = [1, 1]](%941, %layer3.14.conv3.weight)\n",
      "  %943 = BatchNormalization[epsilon = 9.99999974737875e-06, momentum = 0.899999976158142](%942, %layer3.14.bn3.weight, %layer3.14.bn3.bias, %layer3.14.bn3.running_mean, %layer3.14.bn3.running_var)\n",
      "  %944 = Add(%943, %935)\n",
      "  %945 = Relu(%944)\n",
      "  %946 = Conv[dilations = [1, 1], group = 1, kernel_shape = [1, 1], pads = [0, 0, 0, 0], strides = [1, 1]](%945, %layer3.15.conv1.weight)\n",
      "  %947 = BatchNormalization[epsilon = 9.99999974737875e-06, momentum = 0.899999976158142](%946, %layer3.15.bn1.weight, %layer3.15.bn1.bias, %layer3.15.bn1.running_mean, %layer3.15.bn1.running_var)\n",
      "  %948 = Relu(%947)\n",
      "  %949 = Conv[dilations = [1, 1], group = 1, kernel_shape = [3, 3], pads = [1, 1, 1, 1], strides = [1, 1]](%948, %layer3.15.conv2.weight)\n",
      "  %950 = BatchNormalization[epsilon = 9.99999974737875e-06, momentum = 0.899999976158142](%949, %layer3.15.bn2.weight, %layer3.15.bn2.bias, %layer3.15.bn2.running_mean, %layer3.15.bn2.running_var)\n",
      "  %951 = Relu(%950)\n",
      "  %952 = Conv[dilations = [1, 1], group = 1, kernel_shape = [1, 1], pads = [0, 0, 0, 0], strides = [1, 1]](%951, %layer3.15.conv3.weight)\n",
      "  %953 = BatchNormalization[epsilon = 9.99999974737875e-06, momentum = 0.899999976158142](%952, %layer3.15.bn3.weight, %layer3.15.bn3.bias, %layer3.15.bn3.running_mean, %layer3.15.bn3.running_var)\n",
      "  %954 = Add(%953, %945)\n",
      "  %955 = Relu(%954)\n",
      "  %956 = Conv[dilations = [1, 1], group = 1, kernel_shape = [1, 1], pads = [0, 0, 0, 0], strides = [1, 1]](%955, %layer3.16.conv1.weight)\n",
      "  %957 = BatchNormalization[epsilon = 9.99999974737875e-06, momentum = 0.899999976158142](%956, %layer3.16.bn1.weight, %layer3.16.bn1.bias, %layer3.16.bn1.running_mean, %layer3.16.bn1.running_var)\n",
      "  %958 = Relu(%957)\n",
      "  %959 = Conv[dilations = [1, 1], group = 1, kernel_shape = [3, 3], pads = [1, 1, 1, 1], strides = [1, 1]](%958, %layer3.16.conv2.weight)\n",
      "  %960 = BatchNormalization[epsilon = 9.99999974737875e-06, momentum = 0.899999976158142](%959, %layer3.16.bn2.weight, %layer3.16.bn2.bias, %layer3.16.bn2.running_mean, %layer3.16.bn2.running_var)\n",
      "  %961 = Relu(%960)\n",
      "  %962 = Conv[dilations = [1, 1], group = 1, kernel_shape = [1, 1], pads = [0, 0, 0, 0], strides = [1, 1]](%961, %layer3.16.conv3.weight)\n",
      "  %963 = BatchNormalization[epsilon = 9.99999974737875e-06, momentum = 0.899999976158142](%962, %layer3.16.bn3.weight, %layer3.16.bn3.bias, %layer3.16.bn3.running_mean, %layer3.16.bn3.running_var)\n",
      "  %964 = Add(%963, %955)\n",
      "  %965 = Relu(%964)\n",
      "  %966 = Conv[dilations = [1, 1], group = 1, kernel_shape = [1, 1], pads = [0, 0, 0, 0], strides = [1, 1]](%965, %layer3.17.conv1.weight)\n",
      "  %967 = BatchNormalization[epsilon = 9.99999974737875e-06, momentum = 0.899999976158142](%966, %layer3.17.bn1.weight, %layer3.17.bn1.bias, %layer3.17.bn1.running_mean, %layer3.17.bn1.running_var)\n",
      "  %968 = Relu(%967)\n",
      "  %969 = Conv[dilations = [1, 1], group = 1, kernel_shape = [3, 3], pads = [1, 1, 1, 1], strides = [1, 1]](%968, %layer3.17.conv2.weight)\n",
      "  %970 = BatchNormalization[epsilon = 9.99999974737875e-06, momentum = 0.899999976158142](%969, %layer3.17.bn2.weight, %layer3.17.bn2.bias, %layer3.17.bn2.running_mean, %layer3.17.bn2.running_var)\n",
      "  %971 = Relu(%970)\n",
      "  %972 = Conv[dilations = [1, 1], group = 1, kernel_shape = [1, 1], pads = [0, 0, 0, 0], strides = [1, 1]](%971, %layer3.17.conv3.weight)\n",
      "  %973 = BatchNormalization[epsilon = 9.99999974737875e-06, momentum = 0.899999976158142](%972, %layer3.17.bn3.weight, %layer3.17.bn3.bias, %layer3.17.bn3.running_mean, %layer3.17.bn3.running_var)\n",
      "  %974 = Add(%973, %965)\n",
      "  %975 = Relu(%974)\n",
      "  %976 = Conv[dilations = [1, 1], group = 1, kernel_shape = [1, 1], pads = [0, 0, 0, 0], strides = [1, 1]](%975, %layer3.18.conv1.weight)\n",
      "  %977 = BatchNormalization[epsilon = 9.99999974737875e-06, momentum = 0.899999976158142](%976, %layer3.18.bn1.weight, %layer3.18.bn1.bias, %layer3.18.bn1.running_mean, %layer3.18.bn1.running_var)\n",
      "  %978 = Relu(%977)\n",
      "  %979 = Conv[dilations = [1, 1], group = 1, kernel_shape = [3, 3], pads = [1, 1, 1, 1], strides = [1, 1]](%978, %layer3.18.conv2.weight)\n",
      "  %980 = BatchNormalization[epsilon = 9.99999974737875e-06, momentum = 0.899999976158142](%979, %layer3.18.bn2.weight, %layer3.18.bn2.bias, %layer3.18.bn2.running_mean, %layer3.18.bn2.running_var)\n",
      "  %981 = Relu(%980)\n",
      "  %982 = Conv[dilations = [1, 1], group = 1, kernel_shape = [1, 1], pads = [0, 0, 0, 0], strides = [1, 1]](%981, %layer3.18.conv3.weight)\n",
      "  %983 = BatchNormalization[epsilon = 9.99999974737875e-06, momentum = 0.899999976158142](%982, %layer3.18.bn3.weight, %layer3.18.bn3.bias, %layer3.18.bn3.running_mean, %layer3.18.bn3.running_var)\n",
      "  %984 = Add(%983, %975)\n",
      "  %985 = Relu(%984)\n",
      "  %986 = Conv[dilations = [1, 1], group = 1, kernel_shape = [1, 1], pads = [0, 0, 0, 0], strides = [1, 1]](%985, %layer3.19.conv1.weight)\n",
      "  %987 = BatchNormalization[epsilon = 9.99999974737875e-06, momentum = 0.899999976158142](%986, %layer3.19.bn1.weight, %layer3.19.bn1.bias, %layer3.19.bn1.running_mean, %layer3.19.bn1.running_var)\n",
      "  %988 = Relu(%987)\n",
      "  %989 = Conv[dilations = [1, 1], group = 1, kernel_shape = [3, 3], pads = [1, 1, 1, 1], strides = [1, 1]](%988, %layer3.19.conv2.weight)\n",
      "  %990 = BatchNormalization[epsilon = 9.99999974737875e-06, momentum = 0.899999976158142](%989, %layer3.19.bn2.weight, %layer3.19.bn2.bias, %layer3.19.bn2.running_mean, %layer3.19.bn2.running_var)\n",
      "  %991 = Relu(%990)\n",
      "  %992 = Conv[dilations = [1, 1], group = 1, kernel_shape = [1, 1], pads = [0, 0, 0, 0], strides = [1, 1]](%991, %layer3.19.conv3.weight)\n",
      "  %993 = BatchNormalization[epsilon = 9.99999974737875e-06, momentum = 0.899999976158142](%992, %layer3.19.bn3.weight, %layer3.19.bn3.bias, %layer3.19.bn3.running_mean, %layer3.19.bn3.running_var)\n",
      "  %994 = Add(%993, %985)\n",
      "  %995 = Relu(%994)\n",
      "  %996 = Conv[dilations = [1, 1], group = 1, kernel_shape = [1, 1], pads = [0, 0, 0, 0], strides = [1, 1]](%995, %layer3.20.conv1.weight)\n",
      "  %997 = BatchNormalization[epsilon = 9.99999974737875e-06, momentum = 0.899999976158142](%996, %layer3.20.bn1.weight, %layer3.20.bn1.bias, %layer3.20.bn1.running_mean, %layer3.20.bn1.running_var)\n",
      "  %998 = Relu(%997)\n",
      "  %999 = Conv[dilations = [1, 1], group = 1, kernel_shape = [3, 3], pads = [1, 1, 1, 1], strides = [1, 1]](%998, %layer3.20.conv2.weight)\n",
      "  %1000 = BatchNormalization[epsilon = 9.99999974737875e-06, momentum = 0.899999976158142](%999, %layer3.20.bn2.weight, %layer3.20.bn2.bias, %layer3.20.bn2.running_mean, %layer3.20.bn2.running_var)\n",
      "  %1001 = Relu(%1000)\n",
      "  %1002 = Conv[dilations = [1, 1], group = 1, kernel_shape = [1, 1], pads = [0, 0, 0, 0], strides = [1, 1]](%1001, %layer3.20.conv3.weight)\n",
      "  %1003 = BatchNormalization[epsilon = 9.99999974737875e-06, momentum = 0.899999976158142](%1002, %layer3.20.bn3.weight, %layer3.20.bn3.bias, %layer3.20.bn3.running_mean, %layer3.20.bn3.running_var)\n",
      "  %1004 = Add(%1003, %995)\n",
      "  %1005 = Relu(%1004)\n",
      "  %1006 = Conv[dilations = [1, 1], group = 1, kernel_shape = [1, 1], pads = [0, 0, 0, 0], strides = [1, 1]](%1005, %layer3.21.conv1.weight)\n",
      "  %1007 = BatchNormalization[epsilon = 9.99999974737875e-06, momentum = 0.899999976158142](%1006, %layer3.21.bn1.weight, %layer3.21.bn1.bias, %layer3.21.bn1.running_mean, %layer3.21.bn1.running_var)\n",
      "  %1008 = Relu(%1007)\n",
      "  %1009 = Conv[dilations = [1, 1], group = 1, kernel_shape = [3, 3], pads = [1, 1, 1, 1], strides = [1, 1]](%1008, %layer3.21.conv2.weight)\n",
      "  %1010 = BatchNormalization[epsilon = 9.99999974737875e-06, momentum = 0.899999976158142](%1009, %layer3.21.bn2.weight, %layer3.21.bn2.bias, %layer3.21.bn2.running_mean, %layer3.21.bn2.running_var)\n",
      "  %1011 = Relu(%1010)\n",
      "  %1012 = Conv[dilations = [1, 1], group = 1, kernel_shape = [1, 1], pads = [0, 0, 0, 0], strides = [1, 1]](%1011, %layer3.21.conv3.weight)\n",
      "  %1013 = BatchNormalization[epsilon = 9.99999974737875e-06, momentum = 0.899999976158142](%1012, %layer3.21.bn3.weight, %layer3.21.bn3.bias, %layer3.21.bn3.running_mean, %layer3.21.bn3.running_var)\n",
      "  %1014 = Add(%1013, %1005)\n",
      "  %1015 = Relu(%1014)\n",
      "  %1016 = Conv[dilations = [1, 1], group = 1, kernel_shape = [1, 1], pads = [0, 0, 0, 0], strides = [1, 1]](%1015, %layer3.22.conv1.weight)\n",
      "  %1017 = BatchNormalization[epsilon = 9.99999974737875e-06, momentum = 0.899999976158142](%1016, %layer3.22.bn1.weight, %layer3.22.bn1.bias, %layer3.22.bn1.running_mean, %layer3.22.bn1.running_var)\n",
      "  %1018 = Relu(%1017)\n",
      "  %1019 = Conv[dilations = [1, 1], group = 1, kernel_shape = [3, 3], pads = [1, 1, 1, 1], strides = [1, 1]](%1018, %layer3.22.conv2.weight)\n",
      "  %1020 = BatchNormalization[epsilon = 9.99999974737875e-06, momentum = 0.899999976158142](%1019, %layer3.22.bn2.weight, %layer3.22.bn2.bias, %layer3.22.bn2.running_mean, %layer3.22.bn2.running_var)\n",
      "  %1021 = Relu(%1020)\n",
      "  %1022 = Conv[dilations = [1, 1], group = 1, kernel_shape = [1, 1], pads = [0, 0, 0, 0], strides = [1, 1]](%1021, %layer3.22.conv3.weight)\n",
      "  %1023 = BatchNormalization[epsilon = 9.99999974737875e-06, momentum = 0.899999976158142](%1022, %layer3.22.bn3.weight, %layer3.22.bn3.bias, %layer3.22.bn3.running_mean, %layer3.22.bn3.running_var)\n",
      "  %1024 = Add(%1023, %1015)\n",
      "  %1025 = Relu(%1024)\n",
      "  %1026 = Conv[dilations = [1, 1], group = 1, kernel_shape = [1, 1], pads = [0, 0, 0, 0], strides = [1, 1]](%1025, %layer4.0.conv1.weight)\n",
      "  %1027 = BatchNormalization[epsilon = 9.99999974737875e-06, momentum = 0.899999976158142](%1026, %layer4.0.bn1.weight, %layer4.0.bn1.bias, %layer4.0.bn1.running_mean, %layer4.0.bn1.running_var)\n",
      "  %1028 = Relu(%1027)\n",
      "  %1029 = Conv[dilations = [2, 2], group = 1, kernel_shape = [3, 3], pads = [2, 2, 2, 2], strides = [1, 1]](%1028, %layer4.0.conv2.weight)\n",
      "  %1030 = BatchNormalization[epsilon = 9.99999974737875e-06, momentum = 0.899999976158142](%1029, %layer4.0.bn2.weight, %layer4.0.bn2.bias, %layer4.0.bn2.running_mean, %layer4.0.bn2.running_var)\n",
      "  %1031 = Relu(%1030)\n",
      "  %1032 = Conv[dilations = [1, 1], group = 1, kernel_shape = [1, 1], pads = [0, 0, 0, 0], strides = [1, 1]](%1031, %layer4.0.conv3.weight)\n",
      "  %1033 = BatchNormalization[epsilon = 9.99999974737875e-06, momentum = 0.899999976158142](%1032, %layer4.0.bn3.weight, %layer4.0.bn3.bias, %layer4.0.bn3.running_mean, %layer4.0.bn3.running_var)\n",
      "  %1034 = Conv[dilations = [1, 1], group = 1, kernel_shape = [1, 1], pads = [0, 0, 0, 0], strides = [1, 1]](%1025, %layer4.0.downsample.0.weight)\n",
      "  %1035 = BatchNormalization[epsilon = 9.99999974737875e-06, momentum = 0.899999976158142](%1034, %layer4.0.downsample.1.weight, %layer4.0.downsample.1.bias, %layer4.0.downsample.1.running_mean, %layer4.0.downsample.1.running_var)\n",
      "  %1036 = Add(%1033, %1035)\n",
      "  %1037 = Relu(%1036)\n",
      "  %1038 = Conv[dilations = [1, 1], group = 1, kernel_shape = [1, 1], pads = [0, 0, 0, 0], strides = [1, 1]](%1037, %layer4.1.conv1.weight)\n",
      "  %1039 = BatchNormalization[epsilon = 9.99999974737875e-06, momentum = 0.899999976158142](%1038, %layer4.1.bn1.weight, %layer4.1.bn1.bias, %layer4.1.bn1.running_mean, %layer4.1.bn1.running_var)\n",
      "  %1040 = Relu(%1039)\n",
      "  %1041 = Conv[dilations = [2, 2], group = 1, kernel_shape = [3, 3], pads = [2, 2, 2, 2], strides = [1, 1]](%1040, %layer4.1.conv2.weight)\n",
      "  %1042 = BatchNormalization[epsilon = 9.99999974737875e-06, momentum = 0.899999976158142](%1041, %layer4.1.bn2.weight, %layer4.1.bn2.bias, %layer4.1.bn2.running_mean, %layer4.1.bn2.running_var)\n",
      "  %1043 = Relu(%1042)\n",
      "  %1044 = Conv[dilations = [1, 1], group = 1, kernel_shape = [1, 1], pads = [0, 0, 0, 0], strides = [1, 1]](%1043, %layer4.1.conv3.weight)\n",
      "  %1045 = BatchNormalization[epsilon = 9.99999974737875e-06, momentum = 0.899999976158142](%1044, %layer4.1.bn3.weight, %layer4.1.bn3.bias, %layer4.1.bn3.running_mean, %layer4.1.bn3.running_var)\n",
      "  %1046 = Add(%1045, %1037)\n",
      "  %1047 = Relu(%1046)\n",
      "  %1048 = Conv[dilations = [1, 1], group = 1, kernel_shape = [1, 1], pads = [0, 0, 0, 0], strides = [1, 1]](%1047, %layer4.2.conv1.weight)\n",
      "  %1049 = BatchNormalization[epsilon = 9.99999974737875e-06, momentum = 0.899999976158142](%1048, %layer4.2.bn1.weight, %layer4.2.bn1.bias, %layer4.2.bn1.running_mean, %layer4.2.bn1.running_var)\n",
      "  %1050 = Relu(%1049)\n",
      "  %1051 = Conv[dilations = [2, 2], group = 1, kernel_shape = [3, 3], pads = [2, 2, 2, 2], strides = [1, 1]](%1050, %layer4.2.conv2.weight)\n",
      "  %1052 = BatchNormalization[epsilon = 9.99999974737875e-06, momentum = 0.899999976158142](%1051, %layer4.2.bn2.weight, %layer4.2.bn2.bias, %layer4.2.bn2.running_mean, %layer4.2.bn2.running_var)\n",
      "  %1053 = Relu(%1052)\n",
      "  %1054 = Conv[dilations = [1, 1], group = 1, kernel_shape = [1, 1], pads = [0, 0, 0, 0], strides = [1, 1]](%1053, %layer4.2.conv3.weight)\n",
      "  %1055 = BatchNormalization[epsilon = 9.99999974737875e-06, momentum = 0.899999976158142](%1054, %layer4.2.bn3.weight, %layer4.2.bn3.bias, %layer4.2.bn3.running_mean, %layer4.2.bn3.running_var)\n",
      "  %1056 = Add(%1055, %1047)\n",
      "  %1057 = Relu(%1056)\n",
      "  %1058 = Shape(%1057)\n",
      "  %1059 = Constant[value = <Scalar Tensor []>]()\n",
      "  %1060 = Gather[axis = 0](%1058, %1059)\n",
      "  %1061 = Shape(%1057)\n",
      "  %1062 = Constant[value = <Scalar Tensor []>]()\n",
      "  %1063 = Gather[axis = 0](%1061, %1062)\n",
      "  %1064 = GlobalAveragePool(%1057)\n",
      "  %1065 = Conv[dilations = [1, 1], group = 1, kernel_shape = [1, 1], pads = [0, 0, 0, 0], strides = [1, 1]](%1064, %context_encoding.stages.0.1.weight)\n",
      "  %1066 = BatchNormalization[epsilon = 9.99999974737875e-06, momentum = 0.899999976158142](%1065, %context_encoding.stages.0.2.weight, %context_encoding.stages.0.2.bias, %context_encoding.stages.0.2.running_mean, %context_encoding.stages.0.2.running_var)\n",
      "  %1067 = LeakyRelu[alpha = 0.00999999977648258](%1066)\n",
      "  %1068 = Unsqueeze[axes = [0]](%1060)\n",
      "  %1069 = Unsqueeze[axes = [0]](%1063)\n",
      "  %1070 = Concat[axis = 0](%1068, %1069)\n",
      "  %1071 = Constant[value = <Tensor>]()\n",
      "  %1072 = Shape(%1067)\n",
      "  %1073 = Constant[value = <Tensor>]()\n",
      "  %1074 = Constant[value = <Tensor>]()\n",
      "  %1075 = Constant[value = <Tensor>]()\n",
      "  %1076 = Slice(%1072, %1074, %1075, %1073)\n",
      "  %1077 = Cast[to = 7](%1070)\n",
      "  %1078 = Concat[axis = 0](%1076, %1077)\n",
      "  %1079 = Constant[value = <Tensor>]()\n",
      "  %1080 = Resize[coordinate_transformation_mode = 'align_corners', cubic_coeff_a = -0.75, mode = 'linear', nearest_mode = 'floor'](%1067, %1071, %1079, %1078)\n",
      "  %1081 = AveragePool[kernel_shape = [15, 15], strides = [15, 15]](%1057)\n",
      "  %1082 = Conv[dilations = [1, 1], group = 1, kernel_shape = [1, 1], pads = [0, 0, 0, 0], strides = [1, 1]](%1081, %context_encoding.stages.1.1.weight)\n",
      "  %1083 = BatchNormalization[epsilon = 9.99999974737875e-06, momentum = 0.899999976158142](%1082, %context_encoding.stages.1.2.weight, %context_encoding.stages.1.2.bias, %context_encoding.stages.1.2.running_mean, %context_encoding.stages.1.2.running_var)\n",
      "  %1084 = LeakyRelu[alpha = 0.00999999977648258](%1083)\n",
      "  %1085 = Unsqueeze[axes = [0]](%1060)\n",
      "  %1086 = Unsqueeze[axes = [0]](%1063)\n",
      "  %1087 = Concat[axis = 0](%1085, %1086)\n",
      "  %1088 = Constant[value = <Tensor>]()\n",
      "  %1089 = Shape(%1084)\n",
      "  %1090 = Constant[value = <Tensor>]()\n",
      "  %1091 = Constant[value = <Tensor>]()\n",
      "  %1092 = Constant[value = <Tensor>]()\n",
      "  %1093 = Slice(%1089, %1091, %1092, %1090)\n",
      "  %1094 = Cast[to = 7](%1087)\n",
      "  %1095 = Concat[axis = 0](%1093, %1094)\n",
      "  %1096 = Constant[value = <Tensor>]()\n",
      "  %1097 = Resize[coordinate_transformation_mode = 'align_corners', cubic_coeff_a = -0.75, mode = 'linear', nearest_mode = 'floor'](%1084, %1088, %1096, %1095)\n",
      "  %1098 = AveragePool[kernel_shape = [10, 10], strides = [10, 10]](%1057)\n",
      "  %1099 = Conv[dilations = [1, 1], group = 1, kernel_shape = [1, 1], pads = [0, 0, 0, 0], strides = [1, 1]](%1098, %context_encoding.stages.2.1.weight)\n",
      "  %1100 = BatchNormalization[epsilon = 9.99999974737875e-06, momentum = 0.899999976158142](%1099, %context_encoding.stages.2.2.weight, %context_encoding.stages.2.2.bias, %context_encoding.stages.2.2.running_mean, %context_encoding.stages.2.2.running_var)\n",
      "  %1101 = LeakyRelu[alpha = 0.00999999977648258](%1100)\n",
      "  %1102 = Unsqueeze[axes = [0]](%1060)\n",
      "  %1103 = Unsqueeze[axes = [0]](%1063)\n",
      "  %1104 = Concat[axis = 0](%1102, %1103)\n",
      "  %1105 = Constant[value = <Tensor>]()\n",
      "  %1106 = Shape(%1101)\n",
      "  %1107 = Constant[value = <Tensor>]()\n",
      "  %1108 = Constant[value = <Tensor>]()\n",
      "  %1109 = Constant[value = <Tensor>]()\n",
      "  %1110 = Slice(%1106, %1108, %1109, %1107)\n",
      "  %1111 = Cast[to = 7](%1104)\n",
      "  %1112 = Concat[axis = 0](%1110, %1111)\n",
      "  %1113 = Constant[value = <Tensor>]()\n",
      "  %1114 = Resize[coordinate_transformation_mode = 'align_corners', cubic_coeff_a = -0.75, mode = 'linear', nearest_mode = 'floor'](%1101, %1105, %1113, %1112)\n",
      "  %1115 = AveragePool[kernel_shape = [5, 5], strides = [5, 5]](%1057)\n",
      "  %1116 = Conv[dilations = [1, 1], group = 1, kernel_shape = [1, 1], pads = [0, 0, 0, 0], strides = [1, 1]](%1115, %context_encoding.stages.3.1.weight)\n",
      "  %1117 = BatchNormalization[epsilon = 9.99999974737875e-06, momentum = 0.899999976158142](%1116, %context_encoding.stages.3.2.weight, %context_encoding.stages.3.2.bias, %context_encoding.stages.3.2.running_mean, %context_encoding.stages.3.2.running_var)\n",
      "  %1118 = LeakyRelu[alpha = 0.00999999977648258](%1117)\n",
      "  %1119 = Unsqueeze[axes = [0]](%1060)\n",
      "  %1120 = Unsqueeze[axes = [0]](%1063)\n",
      "  %1121 = Concat[axis = 0](%1119, %1120)\n",
      "  %1122 = Constant[value = <Tensor>]()\n",
      "  %1123 = Shape(%1118)\n",
      "  %1124 = Constant[value = <Tensor>]()\n",
      "  %1125 = Constant[value = <Tensor>]()\n",
      "  %1126 = Constant[value = <Tensor>]()\n",
      "  %1127 = Slice(%1123, %1125, %1126, %1124)\n",
      "  %1128 = Cast[to = 7](%1121)\n",
      "  %1129 = Concat[axis = 0](%1127, %1128)\n",
      "  %1130 = Constant[value = <Tensor>]()\n",
      "  %1131 = Resize[coordinate_transformation_mode = 'align_corners', cubic_coeff_a = -0.75, mode = 'linear', nearest_mode = 'floor'](%1118, %1122, %1130, %1129)\n",
      "  %1132 = Concat[axis = 1](%1080, %1097, %1114, %1131, %1057)\n",
      "  %1133 = Conv[dilations = [1, 1], group = 1, kernel_shape = [3, 3], pads = [1, 1, 1, 1], strides = [1, 1]](%1132, %context_encoding.bottleneck.0.weight)\n",
      "  %1134 = BatchNormalization[epsilon = 9.99999974737875e-06, momentum = 0.899999976158142](%1133, %context_encoding.bottleneck.1.weight, %context_encoding.bottleneck.1.bias, %context_encoding.bottleneck.1.running_mean, %context_encoding.bottleneck.1.running_var)\n",
      "  %1135 = LeakyRelu[alpha = 0.00999999977648258](%1134)\n",
      "  %1136 = Shape(%751)\n",
      "  %1137 = Constant[value = <Scalar Tensor []>]()\n",
      "  %1138 = Gather[axis = 0](%1136, %1137)\n",
      "  %1139 = Shape(%751)\n",
      "  %1140 = Constant[value = <Scalar Tensor []>]()\n",
      "  %1141 = Gather[axis = 0](%1139, %1140)\n",
      "  %1142 = Conv[dilations = [1, 1], group = 1, kernel_shape = [1, 1], pads = [0, 0, 0, 0], strides = [1, 1]](%1135, %decoder.conv1.0.weight)\n",
      "  %1143 = BatchNormalization[epsilon = 9.99999974737875e-06, momentum = 0.899999976158142](%1142, %decoder.conv1.1.weight, %decoder.conv1.1.bias, %decoder.conv1.1.running_mean, %decoder.conv1.1.running_var)\n",
      "  %1144 = LeakyRelu[alpha = 0.00999999977648258](%1143)\n",
      "  %1145 = Unsqueeze[axes = [0]](%1138)\n",
      "  %1146 = Unsqueeze[axes = [0]](%1141)\n",
      "  %1147 = Concat[axis = 0](%1145, %1146)\n",
      "  %1148 = Constant[value = <Tensor>]()\n",
      "  %1149 = Shape(%1144)\n",
      "  %1150 = Constant[value = <Tensor>]()\n",
      "  %1151 = Constant[value = <Tensor>]()\n",
      "  %1152 = Constant[value = <Tensor>]()\n",
      "  %1153 = Slice(%1149, %1151, %1152, %1150)\n",
      "  %1154 = Cast[to = 7](%1147)\n",
      "  %1155 = Concat[axis = 0](%1153, %1154)\n",
      "  %1156 = Constant[value = <Tensor>]()\n",
      "  %1157 = Resize[coordinate_transformation_mode = 'align_corners', cubic_coeff_a = -0.75, mode = 'linear', nearest_mode = 'floor'](%1144, %1148, %1156, %1155)\n",
      "  %1158 = Conv[dilations = [1, 1], group = 1, kernel_shape = [1, 1], pads = [0, 0, 0, 0], strides = [1, 1]](%751, %decoder.conv2.0.weight)\n",
      "  %1159 = BatchNormalization[epsilon = 9.99999974737875e-06, momentum = 0.899999976158142](%1158, %decoder.conv2.1.weight, %decoder.conv2.1.bias, %decoder.conv2.1.running_mean, %decoder.conv2.1.running_var)\n",
      "  %1160 = LeakyRelu[alpha = 0.00999999977648258](%1159)\n",
      "  %1161 = Concat[axis = 1](%1157, %1160)\n",
      "  %1162 = Conv[dilations = [1, 1], group = 1, kernel_shape = [1, 1], pads = [0, 0, 0, 0], strides = [1, 1]](%1161, %decoder.conv3.0.weight)\n",
      "  %1163 = BatchNormalization[epsilon = 9.99999974737875e-06, momentum = 0.899999976158142](%1162, %decoder.conv3.1.weight, %decoder.conv3.1.bias, %decoder.conv3.1.running_mean, %decoder.conv3.1.running_var)\n",
      "  %1164 = LeakyRelu[alpha = 0.00999999977648258](%1163)\n",
      "  %1165 = Conv[dilations = [1, 1], group = 1, kernel_shape = [1, 1], pads = [0, 0, 0, 0], strides = [1, 1]](%1164, %decoder.conv3.2.weight)\n",
      "  %1166 = BatchNormalization[epsilon = 9.99999974737875e-06, momentum = 0.899999976158142](%1165, %decoder.conv3.3.weight, %decoder.conv3.3.bias, %decoder.conv3.3.running_mean, %decoder.conv3.3.running_var)\n",
      "  %1167 = LeakyRelu[alpha = 0.00999999977648258](%1166)\n",
      "  %output = Conv[dilations = [1, 1], group = 1, kernel_shape = [1, 1], pads = [0, 0, 0, 0], strides = [1, 1]](%1167, %decoder.conv4.weight, %decoder.conv4.bias)\n",
      "  return %output\n",
      "}\n"
     ]
    }
   ],
   "source": [
    "print(onnx.helper.printable_graph(model_onnx.graph))"
   ]
  },
  {
   "cell_type": "code",
   "execution_count": 26,
   "id": "e5ff00ec-d840-4b4c-9b0d-8d38db882cdf",
   "metadata": {},
   "outputs": [
    {
     "name": "stderr",
     "output_type": "stream",
     "text": [
      "Unable to use `same` padding. Add ZeroPadding2D layer to fix shapes.\n",
      "Unable to use `same` padding. Add ZeroPadding2D layer to fix shapes.\n",
      "Unable to use `same` padding. Add ZeroPadding2D layer to fix shapes.\n",
      "Unable to use `same` padding. Add ZeroPadding2D layer to fix shapes.\n"
     ]
    },
    {
     "name": "stdout",
     "output_type": "stream",
     "text": [
      "[None 512 1 1] [0] [2] [0]\n",
      "[None 512 2 2] [0] [2] [0]\n",
      "[None 512 3 3] [0] [2] [0]\n",
      "[None 512 6 6] [0] [2] [0]\n",
      "[None 256 30 30] [0] [2] [0]\n"
     ]
    }
   ],
   "source": [
    "model_keras = onnx_to_keras(model_onnx, ['input'], verbose=False)\n"
   ]
  },
  {
   "cell_type": "code",
   "execution_count": 14,
   "id": "bbf31893-b73f-4e7d-8c0e-e42e13d0cc44",
   "metadata": {},
   "outputs": [],
   "source": [
    "out_keras=model_keras(inp)"
   ]
  },
  {
   "cell_type": "code",
   "execution_count": 18,
   "id": "b3438747-b787-4e63-9314-11e6f713e95d",
   "metadata": {},
   "outputs": [
    {
     "name": "stdout",
     "output_type": "stream",
     "text": [
      "WARNING:tensorflow:Compiled the loaded model, but the compiled metrics have yet to be built. `model.compile_metrics` will be empty until you train or evaluate the model.\n"
     ]
    },
    {
     "name": "stderr",
     "output_type": "stream",
     "text": [
      "WARNING:tensorflow:Compiled the loaded model, but the compiled metrics have yet to be built. `model.compile_metrics` will be empty until you train or evaluate the model.\n",
      "WARNING:absl:Found untraced functions such as _jit_compiled_convolution_op, _jit_compiled_convolution_op, _jit_compiled_convolution_op, _jit_compiled_convolution_op, _jit_compiled_convolution_op while saving (showing 5 of 116). These functions will not be directly callable after loading.\n"
     ]
    },
    {
     "name": "stdout",
     "output_type": "stream",
     "text": [
      "INFO:tensorflow:Assets written to: lip_473x473.pb/assets\n"
     ]
    },
    {
     "name": "stderr",
     "output_type": "stream",
     "text": [
      "INFO:tensorflow:Assets written to: lip_473x473.pb/assets\n"
     ]
    }
   ],
   "source": [
    "model_keras.save(\"lip_473x473.pb\")"
   ]
  },
  {
   "cell_type": "code",
   "execution_count": 15,
   "id": "815e37fd-78ee-45a4-9b78-82db4b162a70",
   "metadata": {},
   "outputs": [
    {
     "data": {
      "text/plain": [
       "array([5.5658617, 5.5622797, 5.9027095, 6.6051025, 6.774217 , 7.46483  ,\n",
       "       6.358908 , 5.899672 , 6.060269 , 6.6109095], dtype=float32)"
      ]
     },
     "execution_count": 15,
     "metadata": {},
     "output_type": "execute_result"
    }
   ],
   "source": [
    "out_keras.numpy().flatten()[:10]"
   ]
  },
  {
   "cell_type": "code",
   "execution_count": 16,
   "id": "22c85f18-8f1c-4944-8a58-5ba5da0fdbe8",
   "metadata": {},
   "outputs": [
    {
     "data": {
      "text/plain": [
       "array([5.5648184, 5.5598106, 5.898634 , 6.603047 , 6.7771273, 7.467044 ,\n",
       "       6.35725  , 5.8973193, 6.0587196, 6.609029 ], dtype=float32)"
      ]
     },
     "execution_count": 16,
     "metadata": {},
     "output_type": "execute_result"
    }
   ],
   "source": [
    "out_std.flatten()[:10]"
   ]
  },
  {
   "cell_type": "code",
   "execution_count": 3,
   "id": "378fddba-d1b3-4a6c-939e-914c1b275557",
   "metadata": {},
   "outputs": [],
   "source": [
    "import torch\n",
    "class TestMod(torch.nn.Module):\n",
    "    def __init__(self):\n",
    "        super().__init__()\n",
    "\n",
    "    def forward(self, x):\n",
    "        return torch.nn.functional.interpolate(x, size=(14, 14), mode='bilinear', align_corners=True)\n",
    "    "
   ]
  },
  {
   "cell_type": "code",
   "execution_count": 5,
   "id": "43a1f911-ffe7-415e-aa13-9a2327ae6fa8",
   "metadata": {},
   "outputs": [],
   "source": [
    "torch.onnx.export(TestMod(), torch.zeros((1, 3, 7, 7)), \"./test.onnx\", export_params=True,\n",
    "                  do_constant_folding=True, verbose=False, input_names=[\"input\"], output_names=[\"output\"],\n",
    "                  dynamic_axes={'input' : {0 : 'batch_size'},    # variable length axes\n",
    "                  'output' : {0 : 'batch_size'}}, opset_version=11)"
   ]
  },
  {
   "cell_type": "code",
   "execution_count": null,
   "id": "8b067a15-194e-433c-8fa9-a37fa2630cf5",
   "metadata": {},
   "outputs": [],
   "source": []
  },
  {
   "cell_type": "code",
   "execution_count": 20,
   "id": "ec566e36-2b39-4d72-a5fb-baf24449c96d",
   "metadata": {},
   "outputs": [],
   "source": [
    "model_tf = prepare(model_onnx)"
   ]
  },
  {
   "cell_type": "code",
   "execution_count": 21,
   "id": "234f65a1-f7b5-4e6f-9f6c-873463dba38a",
   "metadata": {},
   "outputs": [
    {
     "name": "stdout",
     "output_type": "stream",
     "text": [
      "WARNING:tensorflow:From /opt/conda/envs/schp/lib/python3.8/site-packages/tensorflow/python/autograph/pyct/static_analysis/liveness.py:83: Analyzer.lamba_check (from tensorflow.python.autograph.pyct.static_analysis.liveness) is deprecated and will be removed after 2023-09-23.\n",
      "Instructions for updating:\n",
      "Lambda fuctions will be no more assumed to be used in the statement where they are used, or at least in the same block. https://github.com/tensorflow/tensorflow/issues/56089\n"
     ]
    }
   ],
   "source": [
    "out_tf = model_tf.run(inp).output"
   ]
  },
  {
   "cell_type": "code",
   "execution_count": 22,
   "id": "2e0f4d07-f621-4985-8629-2209579b1a6c",
   "metadata": {},
   "outputs": [
    {
     "data": {
      "text/plain": [
       "(1, 20, 45, 45)"
      ]
     },
     "execution_count": 22,
     "metadata": {},
     "output_type": "execute_result"
    }
   ],
   "source": [
    "out_tf.shape"
   ]
  },
  {
   "cell_type": "code",
   "execution_count": null,
   "id": "8f69797a-5da8-457a-be5d-97f72d3400c5",
   "metadata": {},
   "outputs": [],
   "source": []
  },
  {
   "cell_type": "code",
   "execution_count": 23,
   "id": "5961e6b0-df8f-4646-b90f-ac005b4bc2e4",
   "metadata": {},
   "outputs": [
    {
     "data": {
      "text/plain": [
       "True"
      ]
     },
     "execution_count": 23,
     "metadata": {},
     "output_type": "execute_result"
    }
   ],
   "source": [
    "np.allclose(out_std, out_tf, atol=1e-4)"
   ]
  },
  {
   "cell_type": "code",
   "execution_count": 24,
   "id": "2e015a3a-d210-44b8-97d0-4eb06546a314",
   "metadata": {},
   "outputs": [
    {
     "data": {
      "text/plain": [
       "array([6.0851436, 4.8629365, 3.8546834, 3.7725825, 3.4321313, 2.7285113,\n",
       "       3.4648833, 4.46503  , 3.6937575, 3.6977253], dtype=float32)"
      ]
     },
     "execution_count": 24,
     "metadata": {},
     "output_type": "execute_result"
    }
   ],
   "source": [
    "out_tf.flatten()[0:10]"
   ]
  },
  {
   "cell_type": "code",
   "execution_count": 25,
   "id": "4e4e4490-58bf-4b75-ab50-c47829dc9f5a",
   "metadata": {},
   "outputs": [
    {
     "data": {
      "text/plain": [
       "array([6.0851645, 4.8629513, 3.8547091, 3.7726018, 3.432149 , 2.7285213,\n",
       "       3.4648895, 4.465031 , 3.6937554, 3.6977186], dtype=float32)"
      ]
     },
     "execution_count": 25,
     "metadata": {},
     "output_type": "execute_result"
    }
   ],
   "source": [
    "out_std.flatten()[0:10]"
   ]
  },
  {
   "cell_type": "code",
   "execution_count": null,
   "id": "8bbb0cde-9e1d-44f4-9626-9d0f594bdf61",
   "metadata": {},
   "outputs": [
    {
     "name": "stderr",
     "output_type": "stream",
     "text": [
      "WARNING:absl:Found untraced functions such as gen_tensor_dict while saving (showing 1 of 1). These functions will not be directly callable after loading.\n"
     ]
    }
   ],
   "source": [
    "model_tf.export_graph(\"./tf_lip_473x473.pb\", )"
   ]
  },
  {
   "cell_type": "code",
   "execution_count": 40,
   "id": "3bdbdd5f-9bfb-42bc-9c71-898afcf28e1c",
   "metadata": {},
   "outputs": [],
   "source": [
    "model_saved = tf.saved_model.load(\"./lip_473x473.pb\", tags=None)"
   ]
  },
  {
   "cell_type": "code",
   "execution_count": 26,
   "id": "149b6fbc-7142-4e29-a758-a3bf6a0eace8",
   "metadata": {},
   "outputs": [],
   "source": [
    "out_saved = model_saved(inp_std)"
   ]
  },
  {
   "cell_type": "code",
   "execution_count": 28,
   "id": "bc634e09-eefa-49f3-833c-154a087348ce",
   "metadata": {},
   "outputs": [
    {
     "data": {
      "text/plain": [
       "array([5.5658627, 5.5622826, 5.902707 , 6.605101 , 6.77422  , 7.4648323,\n",
       "       6.3589096, 5.8996735, 6.060269 , 6.6109085], dtype=float32)"
      ]
     },
     "execution_count": 28,
     "metadata": {},
     "output_type": "execute_result"
    }
   ],
   "source": [
    "out_saved.numpy().flatten()[0:10]"
   ]
  },
  {
   "cell_type": "code",
   "execution_count": 9,
   "id": "f722dcd0-3530-4c4d-9b0e-326fefa7ed1c",
   "metadata": {},
   "outputs": [
    {
     "name": "stderr",
     "output_type": "stream",
     "text": [
      "/opt/conda/envs/schp/lib/python3.8/site-packages/tensorflow_addons/utils/ensure_tf_install.py:53: UserWarning: Tensorflow Addons supports using Python ops for all Tensorflow versions above or equal to 2.8.0 and strictly below 2.11.0 (nightly versions are not supported). \n",
      " The versions of TensorFlow you are currently using is 2.11.0 and is not supported. \n",
      "Some things might work, some things might not.\n",
      "If you were to encounter a bug, do not file an issue.\n",
      "If you want to make sure you're using a tested and supported configuration, either change the TensorFlow version or the TensorFlow Addons's version. \n",
      "You can find the compatibility matrix in TensorFlow Addon's readme:\n",
      "https://github.com/tensorflow/addons\n",
      "  warnings.warn(\n"
     ]
    }
   ],
   "source": [
    "import tensorflow as tf\n",
    "import tensorflow_addons as tfa"
   ]
  },
  {
   "cell_type": "code",
   "execution_count": 7,
   "id": "5bfcb9b3-20ab-4eb2-bff0-0988f425c9b4",
   "metadata": {},
   "outputs": [],
   "source": [
    "import cv2\n",
    "import numpy as np"
   ]
  },
  {
   "cell_type": "code",
   "execution_count": 47,
   "id": "17545c09-78d2-46c8-89c3-0c95a886c4bb",
   "metadata": {},
   "outputs": [],
   "source": [
    "img = cv2.imread(\"./inputs/image.png\")[..., ::-1]\n",
    "#img = img[400:1200]"
   ]
  },
  {
   "cell_type": "code",
   "execution_count": 29,
   "id": "6957ce82-4f4f-4c67-9f8f-749c30708fff",
   "metadata": {},
   "outputs": [],
   "source": [
    "def get_affine_transform(input_h, input_w, output_h, output_w):\n",
    "    aspect_ratio = output_w / output_h\n",
    "    if input_h * aspect_ratio > input_w:\n",
    "        scale = output_h / input_h\n",
    "    else:\n",
    "        scale = output_w / input_w\n",
    "\n",
    "    center = np.array([input_w / 2., input_h / 2.])\n",
    "    new_center = np.array([output_w / 2., output_h / 2.])\n",
    "    translation = new_center - center * scale\n",
    "    return np.array([[scale, 0., translation[0]],\n",
    "                     [0.,    scale, translation[1]],\n",
    "                     [0.,    0.,    1.]])\n",
    "\n",
    "\n",
    "        "
   ]
  },
  {
   "cell_type": "code",
   "execution_count": 48,
   "id": "fa798b70-8fc1-474b-a62e-15a29555b27b",
   "metadata": {},
   "outputs": [],
   "source": [
    "transform = get_affine_transform(img.shape[0], img.shape[1], 473, 473)\n",
    "itransform = np.linalg.inv(transform)"
   ]
  },
  {
   "cell_type": "code",
   "execution_count": 31,
   "id": "c9628a8c-7c8d-4b7d-a4cd-93b8480c06b1",
   "metadata": {},
   "outputs": [],
   "source": [
    "import matplotlib.pyplot as plt"
   ]
  },
  {
   "cell_type": "code",
   "execution_count": 49,
   "id": "de9bf920-da64-4204-b63b-63ec81d69670",
   "metadata": {},
   "outputs": [
    {
     "data": {
      "text/plain": [
       "<matplotlib.image.AxesImage at 0x7f97cb567e50>"
      ]
     },
     "execution_count": 49,
     "metadata": {},
     "output_type": "execute_result"
    },
    {
     "data": {
      "image/png": "[encoded data removed]",
      "text/plain": [
       "<Figure size 432x288 with 1 Axes>"
      ]
     },
     "metadata": {
      "needs_background": "light"
     },
     "output_type": "display_data"
    }
   ],
   "source": [
    "transformed_img = tfa.image.transform(img, itransform.flatten()[:8], output_shape=(473, 473)).numpy() / 255.0\n",
    "plt.imshow(transformed_img)"
   ]
  },
  {
   "cell_type": "code",
   "execution_count": 50,
   "id": "55639b29-0176-403c-892c-e64cfc0f0e69",
   "metadata": {},
   "outputs": [
    {
     "data": {
      "text/plain": [
       "<matplotlib.image.AxesImage at 0x7f97cb4e4220>"
      ]
     },
     "execution_count": 50,
     "metadata": {},
     "output_type": "execute_result"
    },
    {
     "data": {
      "image/png": "[encoded data removed]",
      "text/plain": [
       "<Figure size 432x288 with 1 Axes>"
      ]
     },
     "metadata": {
      "needs_background": "light"
     },
     "output_type": "display_data"
    }
   ],
   "source": [
    "plt.imshow(img)"
   ]
  },
  {
   "cell_type": "code",
   "execution_count": 51,
   "id": "f9bdb8de-39b6-47c2-9cde-661c00f9bee7",
   "metadata": {},
   "outputs": [],
   "source": [
    "normalized_img = (transformed_img - np.array([0.406, 0.456, 0.485])) / np.array([0.225, 0.224, 0.229])"
   ]
  },
  {
   "cell_type": "code",
   "execution_count": 52,
   "id": "7e90f765-d9c6-4b36-b42d-852f82ce6e96",
   "metadata": {},
   "outputs": [],
   "source": [
    "out_saved = model_saved(normalized_img.transpose(2, 0, 1)[None].astype(np.float32))"
   ]
  },
  {
   "cell_type": "code",
   "execution_count": 53,
   "id": "826a2243-807b-41d4-9b5c-cafc1ac9cbb8",
   "metadata": {},
   "outputs": [
    {
     "data": {
      "text/plain": [
       "<matplotlib.image.AxesImage at 0x7f97cb45e850>"
      ]
     },
     "execution_count": 53,
     "metadata": {},
     "output_type": "execute_result"
    },
    {
     "data": {
      "image/png": "[encoded data removed]",
      "text/plain": [
       "<Figure size 432x288 with 1 Axes>"
      ]
     },
     "metadata": {
      "needs_background": "light"
     },
     "output_type": "display_data"
    }
   ],
   "source": [
    "plt.imshow(tf.argmax(out_saved[0]).numpy())"
   ]
  },
  {
   "cell_type": "code",
   "execution_count": 56,
   "id": "381d8b30-bacb-44f0-a4ba-e55367458b94",
   "metadata": {},
   "outputs": [],
   "source": [
    "from PIL import Image\n",
    "def get_palette(num_cls):\n",
    "    \"\"\" Returns the color map for visualizing the segmentation mask.\n",
    "    Args:\n",
    "        num_cls: Number of classes\n",
    "    Returns:\n",
    "        The color map\n",
    "    \"\"\"\n",
    "    n = num_cls\n",
    "    palette = [0] * (n * 3)\n",
    "    for j in range(0, n):\n",
    "        lab = j\n",
    "        palette[j * 3 + 0] = 0\n",
    "        palette[j * 3 + 1] = 0\n",
    "        palette[j * 3 + 2] = 0\n",
    "        i = 0\n",
    "        while lab:\n",
    "            palette[j * 3 + 0] |= (((lab >> 0) & 1) << (7 - i))\n",
    "            palette[j * 3 + 1] |= (((lab >> 1) & 1) << (7 - i))\n",
    "            palette[j * 3 + 2] |= (((lab >> 2) & 1) << (7 - i))\n",
    "            i += 1\n",
    "            lab >>= 3\n",
    "    return palette"
   ]
  },
  {
   "cell_type": "code",
   "execution_count": 55,
   "id": "555da244-ccba-4ec8-bfdc-c8e6353c10de",
   "metadata": {},
   "outputs": [],
   "source": [
    "output_img = Image.fromarray(np.asarray(tf.argmax(out_saved[0]).numpy(), dtype=np.uint8))"
   ]
  },
  {
   "cell_type": "code",
   "execution_count": 58,
   "id": "aeee4a6b-3320-465a-a17a-f65d35050169",
   "metadata": {},
   "outputs": [],
   "source": [
    "output_img.putpalette(get_palette(20))"
   ]
  },
  {
   "cell_type": "code",
   "execution_count": 59,
   "id": "68a84dcd-071e-4352-8604-1f7a95ccc215",
   "metadata": {},
   "outputs": [
    {
     "data": {
      "image/png": "[encoded data removed]",
      "text/plain": [
       "<PIL.Image.Image image mode=P size=119x119 at 0x7F97CB512EE0>"
      ]
     },
     "execution_count": 59,
     "metadata": {},
     "output_type": "execute_result"
    }
   ],
   "source": [
    "output_img"
   ]
  },
  {
   "cell_type": "code",
   "execution_count": 65,
   "id": "372a7e64-8eea-4fe5-95a7-9905f531d3cf",
   "metadata": {},
   "outputs": [],
   "source": [
    "std_parse = cv2.imread('./inputs/std_graph.png')[..., 0]"
   ]
  },
  {
   "cell_type": "code",
   "execution_count": 66,
   "id": "cb7416df-1344-44b9-a54f-e71ca7b6b329",
   "metadata": {},
   "outputs": [
    {
     "data": {
      "image/png": "[encoded data removed]",
      "text/plain": [
       "<PIL.Image.Image image mode=P size=1024x1024 at 0x7F97CB58B730>"
      ]
     },
     "execution_count": 66,
     "metadata": {},
     "output_type": "execute_result"
    }
   ],
   "source": [
    "std_output_img = Image.fromarray(std_parse)\n",
    "std_output_img.putpalette(get_palette(20))\n",
    "std_output_img"
   ]
  }
 ],
 "metadata": {
  "environment": {
   "kernel": "schp",
   "name": "pytorch-gpu.1-11.m94",
   "type": "gcloud",
   "uri": "gcr.io/deeplearning-platform-release/pytorch-gpu.1-11:m94"
  },
  "kernelspec": {
   "display_name": "schp",
   "language": "python",
   "name": "schp"
  },
  "language_info": {
   "codemirror_mode": {
    "name": "ipython",
    "version": 3
   },
   "file_extension": ".py",
   "mimetype": "text/x-python",
   "name": "python",
   "nbconvert_exporter": "python",
   "pygments_lexer": "ipython3",
   "version": "3.8.5"
  }
 },
 "nbformat": 4,
 "nbformat_minor": 5
}
