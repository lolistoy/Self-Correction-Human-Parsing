{
 "cells": [
  {
   "cell_type": "code",
   "execution_count": 1,
   "id": "114d2a87-4273-4993-b856-dd5ec4858269",
   "metadata": {},
   "outputs": [
    {
     "name": "stderr",
     "output_type": "stream",
     "text": [
      "/opt/conda/envs/schp/lib/python3.8/site-packages/tensorflow_addons/utils/ensure_tf_install.py:53: UserWarning: Tensorflow Addons supports using Python ops for all Tensorflow versions above or equal to 2.8.0 and strictly below 2.11.0 (nightly versions are not supported). \n",
      " The versions of TensorFlow you are currently using is 2.11.0 and is not supported. \n",
      "Some things might work, some things might not.\n",
      "If you were to encounter a bug, do not file an issue.\n",
      "If you want to make sure you're using a tested and supported configuration, either change the TensorFlow version or the TensorFlow Addons's version. \n",
      "You can find the compatibility matrix in TensorFlow Addon's readme:\n",
      "https://github.com/tensorflow/addons\n",
      "  warnings.warn(\n"
     ]
    }
   ],
   "source": [
    "import torch2keras as cvt\n",
    "import importlib\n",
    "import cv2\n",
    "import numpy as np\n",
    "import matplotlib.pyplot as plt\n",
    "import tensorflow as tf\n",
    "tf.config.set_visible_devices([], 'GPU')\n",
    "importlib.reload(cvt);"
   ]
  },
  {
   "cell_type": "code",
   "execution_count": 2,
   "id": "856a1f9c-b703-4c53-a590-e9050d6a7439",
   "metadata": {},
   "outputs": [],
   "source": [
    "model_std = cvt._load_std_model(\"./final.pth\")\n"
   ]
  },
  {
   "cell_type": "code",
   "execution_count": 3,
   "id": "2e39f9bf-925f-43d3-94a9-258bb876c595",
   "metadata": {},
   "outputs": [
    {
     "name": "stderr",
     "output_type": "stream",
     "text": [
      "/home/jupyter/workspace/Self-Correction-Human-Parsing/networks/AugmentCE2P.py:117: TracerWarning: Converting a tensor to a Python integer might cause the trace to be incorrect. We can't record the data flow of Python values, so this value will be treated as a constant in the future. This means that the trace might not generalize to other inputs!\n",
      "  h, w = int(feats.size(2)), int(feats.size(3))\n",
      "/home/jupyter/workspace/Self-Correction-Human-Parsing/networks/AugmentCE2P.py:242: TracerWarning: Converting a tensor to a Python integer might cause the trace to be incorrect. We can't record the data flow of Python values, so this value will be treated as a constant in the future. This means that the trace might not generalize to other inputs!\n",
      "  h = int(h)\n",
      "/home/jupyter/workspace/Self-Correction-Human-Parsing/networks/AugmentCE2P.py:243: TracerWarning: Converting a tensor to a Python integer might cause the trace to be incorrect. We can't record the data flow of Python values, so this value will be treated as a constant in the future. This means that the trace might not generalize to other inputs!\n",
      "  w = int(w)\n"
     ]
    }
   ],
   "source": [
    "cvt._torch_to_onnx(model_std, \"lip_473x473.onnx\")\n"
   ]
  },
  {
   "cell_type": "code",
   "execution_count": null,
   "id": "46cfcc87-6bd8-424c-93bb-41751b8bc67d",
   "metadata": {},
   "outputs": [],
   "source": [
    "import onnx\n",
    "print(onnx.helper.printable_graph(model_onnx.graph))"
   ]
  },
  {
   "cell_type": "code",
   "execution_count": 3,
   "id": "6235d87e-57a9-4d88-b1ce-a561f5890933",
   "metadata": {},
   "outputs": [
    {
     "ename": "AttributeError",
     "evalue": "module 'torch2keras' has no attribute 'onnx_to_keras'",
     "output_type": "error",
     "traceback": [
      "\u001b[0;31m---------------------------------------------------------------------------\u001b[0m",
      "\u001b[0;31mAttributeError\u001b[0m                            Traceback (most recent call last)",
      "Cell \u001b[0;32mIn [3], line 2\u001b[0m\n\u001b[1;32m      1\u001b[0m model_onnx \u001b[38;5;241m=\u001b[39m cvt\u001b[38;5;241m.\u001b[39monnx\u001b[38;5;241m.\u001b[39mload(\u001b[38;5;124m\"\u001b[39m\u001b[38;5;124mlip_473x473.onnx\u001b[39m\u001b[38;5;124m\"\u001b[39m)\n\u001b[0;32m----> 2\u001b[0m \u001b[43mcvt\u001b[49m\u001b[38;5;241;43m.\u001b[39;49m\u001b[43monnx_to_keras\u001b[49m(model_onnx, [\u001b[38;5;124m'\u001b[39m\u001b[38;5;124minput\u001b[39m\u001b[38;5;124m'\u001b[39m], verbose\u001b[38;5;241m=\u001b[39m\u001b[38;5;28;01mFalse\u001b[39;00m, change_ordering\u001b[38;5;241m=\u001b[39m\u001b[38;5;28;01mTrue\u001b[39;00m)\n",
      "\u001b[0;31mAttributeError\u001b[0m: module 'torch2keras' has no attribute 'onnx_to_keras'"
     ]
    }
   ],
   "source": [
    "model_onnx = cvt.onnx.load(\"lip_473x473.onnx\")\n",
    "cvt.onnx_to_keras(model_onnx, ['input'], verbose=False, change_ordering=True)"
   ]
  },
  {
   "cell_type": "code",
   "execution_count": 2,
   "id": "1f2107cb-0785-4997-841f-095c1e6a4602",
   "metadata": {},
   "outputs": [
    {
     "name": "stderr",
     "output_type": "stream",
     "text": [
      "Unable to use `same` padding. Add ZeroPadding2D layer to fix shapes.\n",
      "Unable to use `same` padding. Add ZeroPadding2D layer to fix shapes.\n",
      "Unable to use `same` padding. Add ZeroPadding2D layer to fix shapes.\n",
      "Unable to use `same` padding. Add ZeroPadding2D layer to fix shapes.\n"
     ]
    }
   ],
   "source": [
    "model_keras = cvt._onnx_to_keras(\"lip_473x473.onnx\")"
   ]
  },
  {
   "cell_type": "code",
   "execution_count": 3,
   "id": "78023b8a-ddfe-4812-b337-f0880bcedc9d",
   "metadata": {},
   "outputs": [],
   "source": [
    "t=1"
   ]
  },
  {
   "cell_type": "code",
   "execution_count": 6,
   "id": "8dd38450-7d8e-4167-82c6-fad6b09ac845",
   "metadata": {},
   "outputs": [
    {
     "ename": "TypeError",
     "evalue": "'int' object is not subscriptable",
     "output_type": "error",
     "traceback": [
      "\u001b[0;31m---------------------------------------------------------------------------\u001b[0m",
      "\u001b[0;31mTypeError\u001b[0m                                 Traceback (most recent call last)",
      "Cell \u001b[0;32mIn [6], line 1\u001b[0m\n\u001b[0;32m----> 1\u001b[0m \u001b[43mt\u001b[49m\u001b[43m[\u001b[49m\u001b[38;5;241;43m1\u001b[39;49m\u001b[43m]\u001b[49m\n",
      "\u001b[0;31mTypeError\u001b[0m: 'int' object is not subscriptable"
     ]
    }
   ],
   "source": [
    "t[1]"
   ]
  },
  {
   "cell_type": "code",
   "execution_count": null,
   "id": "38a84a1a-1849-4f53-bcdb-a0fafbae05d6",
   "metadata": {},
   "outputs": [],
   "source": [
    "model_keras.get_config()"
   ]
  },
  {
   "cell_type": "code",
   "execution_count": 5,
   "id": "0e654885-cfd3-4f35-afd2-93722b4d46c8",
   "metadata": {},
   "outputs": [],
   "source": [
    "out = model_keras(tf.zeros((1, 473, 473, 3)))"
   ]
  },
  {
   "cell_type": "code",
   "execution_count": 6,
   "id": "0b229612-1a06-49e4-836b-b8f59957c9e2",
   "metadata": {},
   "outputs": [
    {
     "data": {
      "text/plain": [
       "TensorShape([1, 119, 119, 20])"
      ]
     },
     "execution_count": 6,
     "metadata": {},
     "output_type": "execute_result"
    }
   ],
   "source": [
    "out.shape"
   ]
  },
  {
   "cell_type": "code",
   "execution_count": 7,
   "id": "9ec5be49-363f-4ee3-ad7b-22702afd8d5a",
   "metadata": {},
   "outputs": [],
   "source": [
    "img = cv2.imread(\"./inputs/image.png\")[..., ::-1] / 255.0\n",
    "#img = img[200:1200]"
   ]
  },
  {
   "cell_type": "code",
   "execution_count": 3,
   "id": "e4a1b56e-819f-49d4-9576-ab39312a852a",
   "metadata": {},
   "outputs": [],
   "source": [
    "model_prepro = cvt.ModelWithPreprocessing(model_keras)"
   ]
  },
  {
   "cell_type": "code",
   "execution_count": 4,
   "id": "ee65abba-f911-45a7-a25b-abce8f8f5a3e",
   "metadata": {},
   "outputs": [],
   "source": [
    "model_prepro.build(input_shape=(1, 473, 473, 3))"
   ]
  },
  {
   "cell_type": "code",
   "execution_count": 11,
   "id": "be3a81ef-9d84-43ac-92ea-ad1237aa0122",
   "metadata": {},
   "outputs": [],
   "source": [
    "out = model_prepro(img.astype(np.float32)[None])"
   ]
  },
  {
   "cell_type": "code",
   "execution_count": 5,
   "id": "b672ec9c-801b-48df-95e8-a788fa179877",
   "metadata": {},
   "outputs": [
    {
     "name": "stderr",
     "output_type": "stream",
     "text": [
      "WARNING:absl:Found untraced functions such as _jit_compiled_convolution_op, _jit_compiled_convolution_op, _jit_compiled_convolution_op, _jit_compiled_convolution_op, _jit_compiled_convolution_op while saving (showing 5 of 116). These functions will not be directly callable after loading.\n"
     ]
    },
    {
     "name": "stdout",
     "output_type": "stream",
     "text": [
      "INFO:tensorflow:Assets written to: ./lip_473x473.pb/assets\n"
     ]
    },
    {
     "name": "stderr",
     "output_type": "stream",
     "text": [
      "INFO:tensorflow:Assets written to: ./lip_473x473.pb/assets\n"
     ]
    }
   ],
   "source": [
    "model_prepro.save(\"./lip_473x473.pb\")"
   ]
  },
  {
   "cell_type": "code",
   "execution_count": 6,
   "id": "3354ae4d-918d-4212-a2ba-deac1a678ddf",
   "metadata": {},
   "outputs": [
    {
     "name": "stdout",
     "output_type": "stream",
     "text": [
      "  adding: lip_473x473.pb/ (stored 0%)\n",
      "  adding: lip_473x473.pb/fingerprint.pb (stored 0%)\n",
      "  adding: lip_473x473.pb/assets/ (stored 0%)\n",
      "  adding: lip_473x473.pb/saved_model.pb (deflated 92%)\n",
      "  adding: lip_473x473.pb/variables/ (stored 0%)\n",
      "  adding: lip_473x473.pb/variables/variables.data-00000-of-00001 (deflated 7%)\n",
      "  adding: lip_473x473.pb/variables/variables.index (deflated 80%)\n",
      "  adding: lip_473x473.pb/keras_metadata.pb (deflated 96%)\n"
     ]
    }
   ],
   "source": [
    "! zip -r lip_473x473.pb.zip ./lip_473x473.pb"
   ]
  },
  {
   "cell_type": "code",
   "execution_count": null,
   "id": "a0e3e17c-6ed7-42dd-a235-efdc23fb3b50",
   "metadata": {},
   "outputs": [],
   "source": []
  },
  {
   "cell_type": "code",
   "execution_count": 42,
   "id": "243e38a5-8706-4323-96b7-8a05d6bef858",
   "metadata": {},
   "outputs": [],
   "source": [
    "model_prepro = tf.saved_model.load(\"./lip_473x473.pb\")"
   ]
  },
  {
   "cell_type": "code",
   "execution_count": 13,
   "id": "9d63866e-429f-4fbe-97ff-e30c26e3ccaf",
   "metadata": {},
   "outputs": [
    {
     "data": {
      "text/plain": [
       "<matplotlib.image.AxesImage at 0x7f112c23b0a0>"
      ]
     },
     "execution_count": 13,
     "metadata": {},
     "output_type": "execute_result"
    },
    {
     "data": {
      "image/png": "[encoded data removed]",
      "text/plain": [
       "<Figure size 640x480 with 1 Axes>"
      ]
     },
     "metadata": {},
     "output_type": "display_data"
    }
   ],
   "source": [
    "plt.imshow((out[0].numpy()[...,None] == 14) * img)"
   ]
  },
  {
   "cell_type": "code",
   "execution_count": null,
   "id": "6d481c3e-f98c-42f2-a091-514c22555425",
   "metadata": {},
   "outputs": [],
   "source": []
  }
 ],
 "metadata": {
  "environment": {
   "kernel": "schp",
   "name": "pytorch-gpu.1-11.m94",
   "type": "gcloud",
   "uri": "gcr.io/deeplearning-platform-release/pytorch-gpu.1-11:m94"
  },
  "kernelspec": {
   "display_name": "schp",
   "language": "python",
   "name": "schp"
  },
  "language_info": {
   "codemirror_mode": {
    "name": "ipython",
    "version": 3
   },
   "file_extension": ".py",
   "mimetype": "text/x-python",
   "name": "python",
   "nbconvert_exporter": "python",
   "pygments_lexer": "ipython3",
   "version": "3.8.5"
  }
 },
 "nbformat": 4,
 "nbformat_minor": 5
}
